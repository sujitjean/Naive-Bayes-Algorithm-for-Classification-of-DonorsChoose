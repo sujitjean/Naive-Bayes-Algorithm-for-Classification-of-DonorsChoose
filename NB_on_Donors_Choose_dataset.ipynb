{
  "nbformat": 4,
  "nbformat_minor": 0,
  "metadata": {
    "colab": {
      "name": "sujit_titun_gmail_com_Assignment_4_NB_on_Donors_Choose_dataset_(1).ipynb",
      "provenance": [],
      "collapsed_sections": []
    },
    "kernelspec": {
      "name": "python3",
      "display_name": "Python 3"
    }
  },
  "cells": [
    {
      "cell_type": "markdown",
      "metadata": {
        "id": "29Z6RF9PtNPM",
        "colab_type": "text"
      },
      "source": [
        "# Naive Bayes for Classification of DonorsChoose"
      ]
    },
    {
      "cell_type": "markdown",
      "metadata": {
        "id": "QBexB6wWtco1",
        "colab_type": "text"
      },
      "source": [
        "<p>\n",
        "DonorsChoose.org receives hundreds of thousands of project proposals each year for classroom projects in need of funding. Right now, a large number of volunteers is needed to manually screen each submission before it's approved to be posted on the DonorsChoose.org website.\n",
        "</p>\n",
        "<p>\n",
        "    Next year, DonorsChoose.org expects to receive close to 500,000 project proposals. As a result, there are three main problems they need to solve:\n",
        "<ul>\n",
        "<li>\n",
        "    How to scale current manual processes and resources to screen 500,000 projects so that they can be posted as quickly and as efficiently as possible</li>\n",
        "    <li>How to increase the consistency of project vetting across different volunteers to improve the experience for teachers</li>\n",
        "    <li>How to focus volunteer time on the applications that need the most assistance</li>\n",
        "    </ul>\n",
        "</p>    \n",
        "<p>\n",
        "The goal of the Project is to predict whether or not a DonorsChoose.org project proposal submitted by a teacher will be approved, using the text of project descriptions as well as additional metadata about the project, teacher, and school. DonorsChoose.org can then use this information to identify projects most likely to need further review before approval.\n",
        "\n",
        "</p>\n",
        "\n"
      ]
    },
    {
      "cell_type": "markdown",
      "metadata": {
        "id": "5kKiSjvptfpK",
        "colab_type": "text"
      },
      "source": [
        "## About the DonorsChoose Data Set\n",
        "\n",
        "The `train.csv` data set provided by DonorsChoose contains the following features:\n",
        "\n",
        "Feature | Description \n",
        "----------|---------------\n",
        "**`project_id`** | A unique identifier for the proposed project. **Example:** `p036502`   \n",
        "**`project_title`**    | Title of the project. **Examples:**<br><ul><li><code>Art Will Make You Happy!</code></li><li><code>First Grade Fun</code></li></ul> \n",
        "**`project_grade_category`** | Grade level of students for which the project is targeted. One of the following enumerated values: <br/><ul><li><code>Grades PreK-2</code></li><li><code>Grades 3-5</code></li><li><code>Grades 6-8</code></li><li><code>Grades 9-12</code></li></ul>  \n",
        " **`project_subject_categories`** | One or more (comma-separated) subject categories for the project from the following enumerated list of values:  <br/><ul><li><code>Applied Learning</code></li><li><code>Care &amp; Hunger</code></li><li><code>Health &amp; Sports</code></li><li><code>History &amp; Civics</code></li><li><code>Literacy &amp; Language</code></li><li><code>Math &amp; Science</code></li><li><code>Music &amp; The Arts</code></li><li><code>Special Needs</code></li><li><code>Warmth</code></li></ul><br/> **Examples:** <br/><ul><li><code>Music &amp; The Arts</code></li><li><code>Literacy &amp; Language, Math &amp; Science</code></li>  \n",
        "  **`school_state`** | State where school is located ([Two-letter U.S. postal code](https://en.wikipedia.org/wiki/List_of_U.S._state_abbreviations#Postal_codes)). **Example:** `WY`\n",
        "**`project_subject_subcategories`** | One or more (comma-separated) subject subcategories for the project. **Examples:** <br/><ul><li><code>Literacy</code></li><li><code>Literature &amp; Writing, Social Sciences</code></li></ul> \n",
        "**`project_resource_summary`** | An explanation of the resources needed for the project. **Example:** <br/><ul><li><code>My students need hands on literacy materials to manage sensory needs!</code</li></ul> \n",
        "**`project_essay_1`**    | First application essay<sup>*</sup>  \n",
        "**`project_essay_2`**    | Second application essay<sup>*</sup> \n",
        "**`project_essay_3`**    | Third application essay<sup>*</sup> \n",
        "**`project_essay_4`**    | Fourth application essay<sup>*</sup> \n",
        "**`project_submitted_datetime`** | Datetime when project application was submitted. **Example:** `2016-04-28 12:43:56.245`   \n",
        "**`teacher_id`** | A unique identifier for the teacher of the proposed project. **Example:** `bdf8baa8fedef6bfeec7ae4ff1c15c56`  \n",
        "**`teacher_prefix`** | Teacher's title. One of the following enumerated values: <br/><ul><li><code>nan</code></li><li><code>Dr.</code></li><li><code>Mr.</code></li><li><code>Mrs.</code></li><li><code>Ms.</code></li><li><code>Teacher.</code></li></ul>  \n",
        "**`teacher_number_of_previously_posted_projects`** | Number of project applications previously submitted by the same teacher. **Example:** `2` \n",
        "\n",
        "<sup>*</sup> See the section <b>Notes on the Essay Data</b> for more details about these features.\n",
        "\n",
        "Additionally, the `resources.csv` data set provides more data about the resources required for each project. Each line in this file represents a resource required by a project:\n",
        "\n",
        "Feature | Description \n",
        "----------|---------------\n",
        "**`id`** | A `project_id` value from the `train.csv` file.  **Example:** `p036502`   \n",
        "**`description`** | Desciption of the resource. **Example:** `Tenor Saxophone Reeds, Box of 25`   \n",
        "**`quantity`** | Quantity of the resource required. **Example:** `3`   \n",
        "**`price`** | Price of the resource required. **Example:** `9.95`   \n",
        "\n",
        "**Note:** Many projects require multiple resources. The `id` value corresponds to a `project_id` in train.csv, so you use it as a key to retrieve all resources needed for a project:\n",
        "\n",
        "The data set contains the following label (the value you will attempt to predict):\n",
        "\n",
        "Label | Description\n",
        "----------|---------------\n",
        "`project_is_approved` | A binary flag indicating whether DonorsChoose approved the project. A value of `0` indicates the project was not approved, and a value of `1` indicates the project was approved.\n"
      ]
    },
    {
      "cell_type": "markdown",
      "metadata": {
        "id": "TIFGxFQ7tiFp",
        "colab_type": "text"
      },
      "source": [
        "### Notes on the Essay Data\n",
        "\n",
        "<ul>\n",
        "Prior to May 17, 2016, the prompts for the essays were as follows:\n",
        "<li>__project_essay_1:__ \"Introduce us to your classroom\"</li>\n",
        "<li>__project_essay_2:__ \"Tell us more about your students\"</li>\n",
        "<li>__project_essay_3:__ \"Describe how your students will use the materials you're requesting\"</li>\n",
        "<li>__project_essay_3:__ \"Close by sharing why your project will make a difference\"</li>\n",
        "</ul>\n",
        "\n",
        "\n",
        "<ul>\n",
        "Starting on May 17, 2016, the number of essays was reduced from 4 to 2, and the prompts for the first 2 essays were changed to the following:<br>\n",
        "<li>__project_essay_1:__ \"Describe your students: What makes your students special? Specific details about their background, your neighborhood, and your school are all helpful.\"</li>\n",
        "<li>__project_essay_2:__ \"About your project: How will these materials make a difference in your students' learning and improve their school lives?\"</li>\n",
        "<br>For all projects with project_submitted_datetime of 2016-05-17 and later, the values of project_essay_3 and project_essay_4 will be NaN.\n",
        "</ul>\n",
        "\n"
      ]
    },
    {
      "cell_type": "code",
      "metadata": {
        "id": "nsH1lUXdQZdn",
        "colab_type": "code",
        "colab": {}
      },
      "source": [
        "\n",
        "%matplotlib inline\n",
        "import warnings\n",
        "warnings.filterwarnings(\"ignore\")\n",
        "\n",
        "import sqlite3\n",
        "import pandas as pd\n",
        "import numpy as np\n",
        "import nltk\n",
        "import string\n",
        "import matplotlib.pyplot as plt\n",
        "import seaborn as sns\n",
        "from sklearn.feature_extraction.text import TfidfTransformer\n",
        "from sklearn.feature_extraction.text import TfidfVectorizer\n",
        "\n",
        "from sklearn.feature_extraction.text import CountVectorizer\n",
        "from sklearn.metrics import confusion_matrix\n",
        "from sklearn import metrics\n",
        "from sklearn.metrics import roc_curve, auc\n",
        "from nltk.stem.porter import PorterStemmer\n",
        "\n",
        "import re\n",
        "import string\n",
        "from nltk.corpus import stopwords\n",
        "from nltk.stem import PorterStemmer\n",
        "from nltk.stem.wordnet import WordNetLemmatizer\n",
        "\n",
        "from gensim.models import Word2Vec\n",
        "from gensim.models import KeyedVectors\n",
        "import pickle\n",
        "\n",
        "from tqdm import tqdm\n",
        "import os\n",
        "\n",
        "# from plotly import plotly\n",
        "# import plotly.offline as offline\n",
        "# import plotly.graph_objs as go\n",
        "# offline.init_notebook_mode()\n",
        "from collections import Counter"
      ],
      "execution_count": 0,
      "outputs": []
    },
    {
      "cell_type": "code",
      "metadata": {
        "id": "nj2KmggTRXCd",
        "colab_type": "code",
        "outputId": "d3e81b88-22df-4baf-dfd2-a2388b9aba99",
        "colab": {
          "base_uri": "https://localhost:8080/",
          "height": 104
        }
      },
      "source": [
        "#getting the file from google drive (resources data)\n",
        "import gdown\n",
        "\n",
        "url = 'https://drive.google.com/uc?id=1OcMV5zjAJI7OvNxxN4Ant52BDF3jrZOZ'\n",
        "output = 'resources.csv'\n",
        "# https://drive.google.com/file/d/1OcMV5zjAJI7OvNxxN4Ant52BDF3jrZOZ/view?usp=sharing\n",
        "gdown.download(url, output, quiet=False)\n"
      ],
      "execution_count": 0,
      "outputs": [
        {
          "output_type": "stream",
          "text": [
            "Downloading...\n",
            "From: https://drive.google.com/uc?id=1OcMV5zjAJI7OvNxxN4Ant52BDF3jrZOZ\n",
            "To: /content/resources.csv\n",
            "127MB [00:00, 295MB/s]\n"
          ],
          "name": "stderr"
        },
        {
          "output_type": "execute_result",
          "data": {
            "text/plain": [
              "'resources.csv'"
            ]
          },
          "metadata": {
            "tags": []
          },
          "execution_count": 64
        }
      ]
    },
    {
      "cell_type": "code",
      "metadata": {
        "id": "5DqF8BdgSe1x",
        "colab_type": "code",
        "outputId": "16ad3cbf-a67d-4029-eb29-2168fa73267c",
        "colab": {
          "base_uri": "https://localhost:8080/",
          "height": 104
        }
      },
      "source": [
        "#getting the data from google drive (test data)\n",
        "import gdown\n",
        "\n",
        "url = 'https://drive.google.com/uc?id=1JGtsNLea4Q2HZQIgBp3pRrOfRN80qIg0'\n",
        "# https://drive.google.com/file/d/1JGtsNLea4Q2HZQIgBp3pRrOfRN80qIg0/view?usp=sharing\n",
        "output = 'train_data.csv'\n",
        "gdown.download(url, output, quiet=False)"
      ],
      "execution_count": 0,
      "outputs": [
        {
          "output_type": "stream",
          "text": [
            "Downloading...\n",
            "From: https://drive.google.com/uc?id=1JGtsNLea4Q2HZQIgBp3pRrOfRN80qIg0\n",
            "To: /content/train_data.csv\n",
            "201MB [00:00, 246MB/s]\n"
          ],
          "name": "stderr"
        },
        {
          "output_type": "execute_result",
          "data": {
            "text/plain": [
              "'train_data.csv'"
            ]
          },
          "metadata": {
            "tags": []
          },
          "execution_count": 65
        }
      ]
    },
    {
      "cell_type": "code",
      "metadata": {
        "id": "r1oISsgTUAsM",
        "colab_type": "code",
        "outputId": "d09b17ee-d5f3-4f5c-98c3-df7bc4fc728f",
        "colab": {
          "base_uri": "https://localhost:8080/",
          "height": 35
        }
      },
      "source": [
        "ls"
      ],
      "execution_count": 0,
      "outputs": [
        {
          "output_type": "stream",
          "text": [
            "resources.csv  \u001b[0m\u001b[01;34msample_data\u001b[0m/  train_data.csv\n"
          ],
          "name": "stdout"
        }
      ]
    },
    {
      "cell_type": "code",
      "metadata": {
        "id": "r7g2FXGJUCt8",
        "colab_type": "code",
        "outputId": "69c0df9f-266d-4c54-ea7b-7e8df2a7252b",
        "colab": {
          "base_uri": "https://localhost:8080/",
          "height": 191
        }
      },
      "source": [
        "Project_data = pd.read_csv(\"train_data.csv\")\n",
        "Resources_data = pd.read_csv(\"resources.csv\")\n",
        "print(\"Shape of Train data \",Project_data.shape)\n",
        "print(\"Shape of Train data \",Resources_data.shape)\n",
        "print(\"-\"*100)\n",
        "print(\"The attributes in Resources_data are as folows \" , \"  -> \"*5,Resources_data.columns.values)\n",
        "print(\"The attributes in Project_data are as folows \" , \"  ->  \"*5,Project_data.columns.values)"
      ],
      "execution_count": 0,
      "outputs": [
        {
          "output_type": "stream",
          "text": [
            "Shape of Train data  (109248, 17)\n",
            "Shape of Train data  (1541272, 4)\n",
            "----------------------------------------------------------------------------------------------------\n",
            "The attributes in Resources_data are as folows    ->   ->   ->   ->   ->  ['id' 'description' 'quantity' 'price']\n",
            "The attributes in Project_data are as folows    ->    ->    ->    ->    ->   ['Unnamed: 0' 'id' 'teacher_id' 'teacher_prefix' 'school_state'\n",
            " 'project_submitted_datetime' 'project_grade_category'\n",
            " 'project_subject_categories' 'project_subject_subcategories'\n",
            " 'project_title' 'project_essay_1' 'project_essay_2' 'project_essay_3'\n",
            " 'project_essay_4' 'project_resource_summary'\n",
            " 'teacher_number_of_previously_posted_projects' 'project_is_approved']\n"
          ],
          "name": "stdout"
        }
      ]
    },
    {
      "cell_type": "code",
      "metadata": {
        "id": "KJqLaNfYatio",
        "colab_type": "code",
        "outputId": "43aabf61-1728-491a-90ea-89628405c2c7",
        "colab": {
          "base_uri": "https://localhost:8080/",
          "height": 251
        }
      },
      "source": [
        "# here the code is chainging the date and time format used in the data to a standard form  and replacing the data with the new format and \n",
        "# replacing the same coloum  refrence to same are given below \n",
        "# https://pandas.pydata.org/pandas-docs/stable/reference/api/pandas.to_datetime.html \n",
        "# https://pandas.pydata.org/pandas-docs/stable/reference/api/pandas.DataFrame.sort_values.html\n",
        "\n",
        "Project_data[\"Date\"] = pd.to_datetime(Project_data[\"project_submitted_datetime\"])\n",
        "Project_data.drop(\"project_submitted_datetime\",axis=1,inplace = True )\n",
        "Project_data.sort_values(by=[\"Date\"],inplace=True)\n",
        "Project_data.head(2)\n"
      ],
      "execution_count": 0,
      "outputs": [
        {
          "output_type": "execute_result",
          "data": {
            "text/html": [
              "<div>\n",
              "<style scoped>\n",
              "    .dataframe tbody tr th:only-of-type {\n",
              "        vertical-align: middle;\n",
              "    }\n",
              "\n",
              "    .dataframe tbody tr th {\n",
              "        vertical-align: top;\n",
              "    }\n",
              "\n",
              "    .dataframe thead th {\n",
              "        text-align: right;\n",
              "    }\n",
              "</style>\n",
              "<table border=\"1\" class=\"dataframe\">\n",
              "  <thead>\n",
              "    <tr style=\"text-align: right;\">\n",
              "      <th></th>\n",
              "      <th>Unnamed: 0</th>\n",
              "      <th>id</th>\n",
              "      <th>teacher_id</th>\n",
              "      <th>teacher_prefix</th>\n",
              "      <th>school_state</th>\n",
              "      <th>project_grade_category</th>\n",
              "      <th>project_subject_categories</th>\n",
              "      <th>project_subject_subcategories</th>\n",
              "      <th>project_title</th>\n",
              "      <th>project_essay_1</th>\n",
              "      <th>project_essay_2</th>\n",
              "      <th>project_essay_3</th>\n",
              "      <th>project_essay_4</th>\n",
              "      <th>project_resource_summary</th>\n",
              "      <th>teacher_number_of_previously_posted_projects</th>\n",
              "      <th>project_is_approved</th>\n",
              "      <th>Date</th>\n",
              "    </tr>\n",
              "  </thead>\n",
              "  <tbody>\n",
              "    <tr>\n",
              "      <th>55660</th>\n",
              "      <td>8393</td>\n",
              "      <td>p205479</td>\n",
              "      <td>2bf07ba08945e5d8b2a3f269b2b3cfe5</td>\n",
              "      <td>Mrs.</td>\n",
              "      <td>CA</td>\n",
              "      <td>Grades PreK-2</td>\n",
              "      <td>Math &amp; Science</td>\n",
              "      <td>Applied Sciences, Health &amp; Life Science</td>\n",
              "      <td>Engineering STEAM into the Primary Classroom</td>\n",
              "      <td>I have been fortunate enough to use the Fairy ...</td>\n",
              "      <td>My students come from a variety of backgrounds...</td>\n",
              "      <td>Each month I try to do several science or STEM...</td>\n",
              "      <td>It is challenging to develop high quality scie...</td>\n",
              "      <td>My students need STEM kits to learn critical s...</td>\n",
              "      <td>53</td>\n",
              "      <td>1</td>\n",
              "      <td>2016-04-27 00:27:36</td>\n",
              "    </tr>\n",
              "    <tr>\n",
              "      <th>76127</th>\n",
              "      <td>37728</td>\n",
              "      <td>p043609</td>\n",
              "      <td>3f60494c61921b3b43ab61bdde2904df</td>\n",
              "      <td>Ms.</td>\n",
              "      <td>UT</td>\n",
              "      <td>Grades 3-5</td>\n",
              "      <td>Special Needs</td>\n",
              "      <td>Special Needs</td>\n",
              "      <td>Sensory Tools for Focus</td>\n",
              "      <td>Imagine being 8-9 years old. You're in your th...</td>\n",
              "      <td>Most of my students have autism, anxiety, anot...</td>\n",
              "      <td>It is tough to do more than one thing at a tim...</td>\n",
              "      <td>When my students are able to calm themselves d...</td>\n",
              "      <td>My students need Boogie Boards for quiet senso...</td>\n",
              "      <td>4</td>\n",
              "      <td>1</td>\n",
              "      <td>2016-04-27 00:31:25</td>\n",
              "    </tr>\n",
              "  </tbody>\n",
              "</table>\n",
              "</div>"
            ],
            "text/plain": [
              "       Unnamed: 0       id  ... project_is_approved                Date\n",
              "55660        8393  p205479  ...                   1 2016-04-27 00:27:36\n",
              "76127       37728  p043609  ...                   1 2016-04-27 00:31:25\n",
              "\n",
              "[2 rows x 17 columns]"
            ]
          },
          "metadata": {
            "tags": []
          },
          "execution_count": 68
        }
      ]
    },
    {
      "cell_type": "code",
      "metadata": {
        "id": "LFgA6mXBdZaC",
        "colab_type": "code",
        "outputId": "57539af7-ee9e-43a9-c73c-05f24a6bfc4f",
        "colab": {
          "base_uri": "https://localhost:8080/",
          "height": 35
        }
      },
      "source": [
        "# find out the NAN values in the dataframe and fill with null \n",
        "# https://stackoverflow.com/questions/29530232/how-to-check-if-any-value-is-nan-in-a-pandas-dataframe\n",
        "# https://pandas.pydata.org/pandas-docs/stable/reference/api/pandas.DataFrame.fillna.html\n",
        "Project_data[\"teacher_prefix\"] = Project_data[\"teacher_prefix\"].fillna(\"null\")\n",
        "print(\"The number of NAN values in teacher_prefix Column is \" + str(Project_data[\"teacher_prefix\"].isnull().sum()))"
      ],
      "execution_count": 0,
      "outputs": [
        {
          "output_type": "stream",
          "text": [
            "The number of NAN values in teacher_prefix Column is 0\n"
          ],
          "name": "stdout"
        }
      ]
    },
    {
      "cell_type": "markdown",
      "metadata": {
        "id": "PvCliNs9esOr",
        "colab_type": "text"
      },
      "source": [
        "## 1.1 ** Preprocessing of the Text **"
      ]
    },
    {
      "cell_type": "code",
      "metadata": {
        "id": "cf4cA4IdlXfR",
        "colab_type": "code",
        "outputId": "f2925949-bdf0-4109-ccd0-f1c57ec8244f",
        "colab": {
          "base_uri": "https://localhost:8080/",
          "height": 55
        }
      },
      "source": [
        "# remove special characters from list of strings python: https://stackoverflow.com/a/47301924/4084039\n",
        "# https://www.geeksforgeeks.org/removing-stop-words-nltk-python/\n",
        "# https://stackoverflow.com/questions/23669024/how-to-strip-a-specific-word-from-a-string\n",
        "# https://stackoverflow.com/questions/8270092/remove-all-whitespace-in-a-string-in-python\n",
        "\n",
        "catogories = list(Project_data['project_subject_categories'].values)\n",
        "cat_list = []\n",
        "for i in catogories:\n",
        "    temp = \"\"\n",
        "    for j in i.split(','):\n",
        "        if 'The' in j.split():\n",
        "            j=j.replace('The','')\n",
        "        j = j.replace(' ','')\n",
        "        temp+=j.strip()+\" \"\n",
        "        temp = temp.replace('&','_') \n",
        "    cat_list.append(temp.strip().lower())\n",
        "    \n",
        "Project_data['clean_categories'] = cat_list\n",
        "Project_data.drop(['project_subject_categories'], axis=1, inplace=True)\n",
        "\n",
        "from collections import Counter\n",
        "my_counter = Counter()\n",
        "for word in Project_data['clean_categories'].values:\n",
        "    my_counter.update(word.split())\n",
        "\n",
        "cat_dict = dict(my_counter)\n",
        "sorted_cat_dict = dict(sorted(cat_dict.items(), key=lambda kv: kv[1]))\n",
        "print(\"The Worlds in sorted_cat_dict\",sorted_cat_dict)"
      ],
      "execution_count": 0,
      "outputs": [
        {
          "output_type": "stream",
          "text": [
            "The Worlds in sorted_cat_dict {'warmth': 1388, 'care_hunger': 1388, 'history_civics': 5914, 'music_arts': 10293, 'appliedlearning': 12135, 'specialneeds': 13642, 'health_sports': 14223, 'math_science': 41421, 'literacy_language': 52239}\n"
          ],
          "name": "stdout"
        }
      ]
    },
    {
      "cell_type": "code",
      "metadata": {
        "id": "xda1F2GxgAio",
        "colab_type": "code",
        "outputId": "afdd8d39-c9ec-4970-f5a3-a6bb2594680a",
        "colab": {
          "base_uri": "https://localhost:8080/",
          "height": 575
        }
      },
      "source": [
        "catogories1 = list(Project_data['project_subject_subcategories'].values)\n",
        "cat_list1 = []\n",
        "for i in catogories1:\n",
        "    temp1 = \"\"\n",
        "    for j in i.split(','): \n",
        "        if 'The' in j.split():\n",
        "            j=j.replace('The','')\n",
        "        j = j.replace(' ','') \n",
        "        temp1+=j.strip()+\" \" \n",
        "        temp1 = temp1.replace('&','_') \n",
        "    cat_list1.append(temp1.strip().lower())\n",
        "    \n",
        "Project_data['clean_sub_categories'] = cat_list1\n",
        "Project_data.drop(['project_subject_subcategories'], axis=1, inplace=True)\n",
        "\n",
        "from collections import Counter\n",
        "my_counter1 = Counter()\n",
        "for word in Project_data['clean_sub_categories'].values:\n",
        "    my_counter1.update(word.split())\n",
        "\n",
        "cat_dict1 = dict(my_counter1)\n",
        "sorted_cat_dict1 = dict(sorted(cat_dict1.items(), key=lambda kv: kv[1]))\n",
        "print(\"The Worlds in sorted_cat_dict1\",sorted_cat_dict1)\n",
        "for i in sorted_cat_dict1:\n",
        "  print(i,sorted_cat_dict1[i])"
      ],
      "execution_count": 0,
      "outputs": [
        {
          "output_type": "stream",
          "text": [
            "The Worlds in sorted_cat_dict1 {'economics': 269, 'communityservice': 441, 'financialliteracy': 568, 'parentinvolvement': 677, 'extracurricular': 810, 'civics_government': 815, 'foreignlanguages': 890, 'nutritioneducation': 1355, 'warmth': 1388, 'care_hunger': 1388, 'socialsciences': 1920, 'performingarts': 1961, 'charactereducation': 2065, 'teamsports': 2192, 'other': 2372, 'college_careerprep': 2568, 'music': 3145, 'history_geography': 3171, 'health_lifescience': 4235, 'earlydevelopment': 4254, 'esl': 4367, 'gym_fitness': 4509, 'environmentalscience': 5591, 'visualarts': 6278, 'health_wellness': 10234, 'appliedsciences': 10816, 'specialneeds': 13642, 'literature_writing': 22179, 'mathematics': 28074, 'literacy': 33700}\n",
            "economics 269\n",
            "communityservice 441\n",
            "financialliteracy 568\n",
            "parentinvolvement 677\n",
            "extracurricular 810\n",
            "civics_government 815\n",
            "foreignlanguages 890\n",
            "nutritioneducation 1355\n",
            "warmth 1388\n",
            "care_hunger 1388\n",
            "socialsciences 1920\n",
            "performingarts 1961\n",
            "charactereducation 2065\n",
            "teamsports 2192\n",
            "other 2372\n",
            "college_careerprep 2568\n",
            "music 3145\n",
            "history_geography 3171\n",
            "health_lifescience 4235\n",
            "earlydevelopment 4254\n",
            "esl 4367\n",
            "gym_fitness 4509\n",
            "environmentalscience 5591\n",
            "visualarts 6278\n",
            "health_wellness 10234\n",
            "appliedsciences 10816\n",
            "specialneeds 13642\n",
            "literature_writing 22179\n",
            "mathematics 28074\n",
            "literacy 33700\n"
          ],
          "name": "stdout"
        }
      ]
    },
    {
      "cell_type": "code",
      "metadata": {
        "id": "9Dr8duNPgn6W",
        "colab_type": "code",
        "outputId": "17d0b7da-2c0e-4fcf-8b8c-0654f48dda99",
        "colab": {
          "base_uri": "https://localhost:8080/",
          "height": 55
        }
      },
      "source": [
        "school_state = list(Project_data['school_state'].values)\n",
        "school_state_list = []\n",
        "for i in school_state:\n",
        "    temp2 = \"\"\n",
        "    for j in i.split(','):\n",
        "        if 'The' in j.split():\n",
        "            j=j.replace('The','') \n",
        "        j = j.replace(' ','') \n",
        "        temp2 +=j.strip()+\" \"\n",
        "        temp2 = temp2.replace('&','_')\n",
        "    school_state_list.append(temp2.strip().lower())\n",
        "\n",
        "Project_data['School_state'] = school_state_list\n",
        "Project_data.drop(['school_state'], axis=1, inplace=True)\n",
        "\n",
        "my_counter3 = Counter()\n",
        "for word in Project_data['School_state'].values:\n",
        "    my_counter3.update(word.split())\n",
        "    \n",
        "school_state_dict = dict(my_counter3)\n",
        "sorted_school_state_dict = dict(sorted(school_state_dict.items(), key=lambda kv: kv[1]))\n",
        "print(\"The Values in sorted_school_state_dict : \", sorted_school_state_dict)\n",
        "\n"
      ],
      "execution_count": 0,
      "outputs": [
        {
          "output_type": "stream",
          "text": [
            "The Values in sorted_school_state_dict :  {'vt': 80, 'wy': 98, 'nd': 143, 'mt': 245, 'ri': 285, 'sd': 300, 'ne': 309, 'de': 343, 'ak': 345, 'nh': 348, 'wv': 503, 'me': 505, 'hi': 507, 'dc': 516, 'nm': 557, 'ks': 634, 'ia': 666, 'id': 693, 'ar': 1049, 'co': 1111, 'mn': 1208, 'or': 1242, 'ky': 1304, 'ms': 1323, 'nv': 1367, 'md': 1514, 'ct': 1663, 'tn': 1688, 'ut': 1731, 'al': 1762, 'wi': 1827, 'va': 2045, 'az': 2147, 'nj': 2237, 'ok': 2276, 'wa': 2334, 'ma': 2389, 'la': 2394, 'oh': 2467, 'mo': 2576, 'in': 2620, 'pa': 3109, 'mi': 3161, 'sc': 3936, 'ga': 3963, 'il': 4350, 'nc': 5091, 'fl': 6185, 'ny': 7318, 'tx': 7396, 'ca': 15388}\n"
          ],
          "name": "stdout"
        }
      ]
    },
    {
      "cell_type": "code",
      "metadata": {
        "id": "06NK-gLYhLKs",
        "colab_type": "code",
        "colab": {}
      },
      "source": [
        "# merge two column text dataframe: \n",
        "Project_data[\"essay\"] = Project_data[\"project_essay_1\"].map(str) +\\\n",
        "                        Project_data[\"project_essay_2\"].map(str) + \\\n",
        "                        Project_data[\"project_essay_3\"].map(str) + \\\n",
        "                        Project_data[\"project_essay_4\"].map(str)"
      ],
      "execution_count": 0,
      "outputs": []
    },
    {
      "cell_type": "code",
      "metadata": {
        "id": "tOgELF12iBCN",
        "colab_type": "code",
        "colab": {}
      },
      "source": [
        "# https://stackoverflow.com/a/47091490/4084039\n",
        "import re\n",
        "\n",
        "def decontracted(phrase):\n",
        "    # specific\n",
        "    phrase = re.sub(r\"won't\", \"will not\", phrase)\n",
        "    phrase = re.sub(r\"can\\'t\", \"can not\", phrase)\n",
        "\n",
        "    # general\n",
        "    phrase = re.sub(r\"n\\'t\", \" not\", phrase)\n",
        "    phrase = re.sub(r\"\\'re\", \" are\", phrase)\n",
        "    phrase = re.sub(r\"\\'s\", \" is\", phrase)\n",
        "    phrase = re.sub(r\"\\'d\", \" would\", phrase)\n",
        "    phrase = re.sub(r\"\\'ll\", \" will\", phrase)\n",
        "    phrase = re.sub(r\"\\'t\", \" not\", phrase)\n",
        "    phrase = re.sub(r\"\\'ve\", \" have\", phrase)\n",
        "    phrase = re.sub(r\"\\'m\", \" am\", phrase)\n",
        "    return phrase"
      ],
      "execution_count": 0,
      "outputs": []
    },
    {
      "cell_type": "code",
      "metadata": {
        "id": "1yxSjhSfiHeG",
        "colab_type": "code",
        "colab": {}
      },
      "source": [
        "# https://gist.github.com/sebleier/554280\n",
        "# we are removing the words from the stop words list: 'no', 'nor', 'not'\n",
        "stopwords= ['i', 'me', 'my', 'myself', 'we', 'our', 'ours', 'ourselves', 'you', \"you're\", \"you've\",\\\n",
        "            \"you'll\", \"you'd\", 'your', 'yours', 'yourself', 'yourselves', 'he', 'him', 'his', 'himself', \\\n",
        "            'she', \"she's\", 'her', 'hers', 'herself', 'it', \"it's\", 'its', 'itself', 'they', 'them', 'their',\\\n",
        "            'theirs', 'themselves', 'what', 'which', 'who', 'whom', 'this', 'that', \"that'll\", 'these', 'those', \\\n",
        "            'am', 'is', 'are', 'was', 'were', 'be', 'been', 'being', 'have', 'has', 'had', 'having', 'do', 'does', \\\n",
        "            'did', 'doing', 'a', 'an', 'the', 'and', 'but', 'if', 'or', 'because', 'as', 'until', 'while', 'of', \\\n",
        "            'at', 'by', 'for', 'with', 'about', 'against', 'between', 'into', 'through', 'during', 'before', 'after',\\\n",
        "            'above', 'below', 'to', 'from', 'up', 'down', 'in', 'out', 'on', 'off', 'over', 'under', 'again', 'further',\\\n",
        "            'then', 'once', 'here', 'there', 'when', 'where', 'why', 'how', 'all', 'any', 'both', 'each', 'few', 'more',\\\n",
        "            'most', 'other', 'some', 'such', 'only', 'own', 'same', 'so', 'than', 'too', 'very', \\\n",
        "            's', 't', 'can', 'will', 'just', 'don', \"don't\", 'should', \"should've\", 'now', 'd', 'll', 'm', 'o', 're', \\\n",
        "            've', 'y', 'ain', 'aren', \"aren't\", 'couldn', \"couldn't\", 'didn', \"didn't\", 'doesn', \"doesn't\", 'hadn',\\\n",
        "            \"hadn't\", 'hasn', \"hasn't\", 'haven', \"haven't\", 'isn', \"isn't\", 'ma', 'mightn', \"mightn't\", 'mustn',\\\n",
        "            \"mustn't\", 'needn', \"needn't\", 'shan', \"shan't\", 'shouldn', \"shouldn't\", 'wasn', \"wasn't\", 'weren', \"weren't\", \\\n",
        "            'won', \"won't\", 'wouldn', \"wouldn't\"]"
      ],
      "execution_count": 0,
      "outputs": []
    },
    {
      "cell_type": "code",
      "metadata": {
        "id": "9NT2zz-TiJro",
        "colab_type": "code",
        "outputId": "09bba2fe-ec42-49c9-fcbb-eb48981fa517",
        "colab": {
          "base_uri": "https://localhost:8080/",
          "height": 35
        }
      },
      "source": [
        "# Combining all the above stundents \n",
        "from tqdm import tqdm\n",
        "preprocessed_essays = []\n",
        "# tqdm is for printing the status bar\n",
        "for sentance in tqdm(Project_data['essay'].values):\n",
        "    sent = decontracted(sentance)\n",
        "    sent = sent.replace('\\\\r', ' ')\n",
        "    sent = sent.replace('\\\\\"', ' ')\n",
        "    sent = sent.replace('\\\\n', ' ')\n",
        "    sent = re.sub('[^A-Za-z0-9]+', ' ', sent)\n",
        "    # https://gist.github.com/sebleier/554280\n",
        "    sent = ' '.join(e for e in sent.split() if e.lower() not in stopwords)\n",
        "    preprocessed_essays.append(sent.lower().strip())"
      ],
      "execution_count": 0,
      "outputs": [
        {
          "output_type": "stream",
          "text": [
            "100%|██████████| 109248/109248 [01:01<00:00, 1788.74it/s]\n"
          ],
          "name": "stderr"
        }
      ]
    },
    {
      "cell_type": "code",
      "metadata": {
        "id": "VEfBt8txlk4_",
        "colab_type": "code",
        "outputId": "067880f5-4b6a-4cd4-f49e-554cfe315b28",
        "colab": {
          "base_uri": "https://localhost:8080/",
          "height": 35
        }
      },
      "source": [
        "# Combining all the above statemennts \n",
        "from tqdm import tqdm\n",
        "preprocessed_titles = []\n",
        "# tqdm is for printing the status bar\n",
        "for sentence in tqdm(Project_data['project_title'].values):\n",
        "    sent = decontracted(sentence)\n",
        "    sent = sent.replace('\\\\r', ' ')\n",
        "    sent = sent.replace('\\\\\"', ' ')\n",
        "    sent = sent.replace('\\\\n', ' ')\n",
        "    sent = re.sub('[^A-Za-z0-9]+', ' ', sent)\n",
        "    # https://gist.github.com/sebleier/554280\n",
        "    sent = ' '.join(e for e in sent.split() if e not in stopwords)\n",
        "    preprocessed_titles.append(sent.lower().strip())"
      ],
      "execution_count": 0,
      "outputs": [
        {
          "output_type": "stream",
          "text": [
            "100%|██████████| 109248/109248 [00:02<00:00, 41717.06it/s]\n"
          ],
          "name": "stderr"
        }
      ]
    },
    {
      "cell_type": "code",
      "metadata": {
        "id": "UGvBZuAbjJLA",
        "colab_type": "code",
        "colab": {}
      },
      "source": [
        "Project_data[\"clean_titles\"] = preprocessed_titles\n",
        "Project_data.drop([\"project_essay_1\"],axis=1,inplace=True)\n",
        "Project_data.drop([\"project_essay_2\"],axis=1,inplace=True)\n",
        "Project_data.drop([\"project_essay_3\"],axis=1,inplace=True)\n",
        "Project_data.drop([\"project_essay_4\"],axis=1,inplace=True)\n",
        "Project_data.drop([\"project_title\"],axis=1,inplace=True)"
      ],
      "execution_count": 0,
      "outputs": []
    },
    {
      "cell_type": "markdown",
      "metadata": {
        "id": "rvj96t0Cl5nL",
        "colab_type": "text"
      },
      "source": [
        "Merging the dataframes that is Train_csv and Resources_csv "
      ]
    },
    {
      "cell_type": "code",
      "metadata": {
        "id": "XfvkF-Sxl22h",
        "colab_type": "code",
        "outputId": "660078a9-791c-4c24-8f05-87c42619231d",
        "colab": {
          "base_uri": "https://localhost:8080/",
          "height": 121
        }
      },
      "source": [
        "print(\"Project_data Columns are - >>> \" , Project_data.columns ,\"Resources_data Columns  \", Resources_data.columns)"
      ],
      "execution_count": 0,
      "outputs": [
        {
          "output_type": "stream",
          "text": [
            "Project_data Columns are - >>>  Index(['Unnamed: 0', 'id', 'teacher_id', 'teacher_prefix',\n",
            "       'project_grade_category', 'project_resource_summary',\n",
            "       'teacher_number_of_previously_posted_projects', 'project_is_approved',\n",
            "       'Date', 'clean_categories', 'clean_sub_categories', 'School_state',\n",
            "       'essay', 'clean_titles'],\n",
            "      dtype='object') Resources_data Columns   Index(['id', 'description', 'quantity', 'price'], dtype='object')\n"
          ],
          "name": "stdout"
        }
      ]
    },
    {
      "cell_type": "code",
      "metadata": {
        "id": "anwI4o8OvbIQ",
        "colab_type": "code",
        "outputId": "42cf59ec-3904-405a-8a9d-d521857aa587",
        "colab": {
          "base_uri": "https://localhost:8080/",
          "height": 110
        }
      },
      "source": [
        "Price_data = Resources_data.groupby(\"id\").agg({\"price\": \"sum\" ,\"quantity\" : \"sum\"}).reset_index()\n",
        "Price_data.head(2)"
      ],
      "execution_count": 0,
      "outputs": [
        {
          "output_type": "execute_result",
          "data": {
            "text/html": [
              "<div>\n",
              "<style scoped>\n",
              "    .dataframe tbody tr th:only-of-type {\n",
              "        vertical-align: middle;\n",
              "    }\n",
              "\n",
              "    .dataframe tbody tr th {\n",
              "        vertical-align: top;\n",
              "    }\n",
              "\n",
              "    .dataframe thead th {\n",
              "        text-align: right;\n",
              "    }\n",
              "</style>\n",
              "<table border=\"1\" class=\"dataframe\">\n",
              "  <thead>\n",
              "    <tr style=\"text-align: right;\">\n",
              "      <th></th>\n",
              "      <th>id</th>\n",
              "      <th>price</th>\n",
              "      <th>quantity</th>\n",
              "    </tr>\n",
              "  </thead>\n",
              "  <tbody>\n",
              "    <tr>\n",
              "      <th>0</th>\n",
              "      <td>p000001</td>\n",
              "      <td>459.56</td>\n",
              "      <td>7</td>\n",
              "    </tr>\n",
              "    <tr>\n",
              "      <th>1</th>\n",
              "      <td>p000002</td>\n",
              "      <td>515.89</td>\n",
              "      <td>21</td>\n",
              "    </tr>\n",
              "  </tbody>\n",
              "</table>\n",
              "</div>"
            ],
            "text/plain": [
              "        id   price  quantity\n",
              "0  p000001  459.56         7\n",
              "1  p000002  515.89        21"
            ]
          },
          "metadata": {
            "tags": []
          },
          "execution_count": 80
        }
      ]
    },
    {
      "cell_type": "code",
      "metadata": {
        "id": "JeB-OgZpwpJ8",
        "colab_type": "code",
        "outputId": "6ce76d53-35de-4b1a-e85f-ebca9e02f20b",
        "colab": {
          "base_uri": "https://localhost:8080/",
          "height": 312
        }
      },
      "source": [
        "Project_data = pd.merge(Project_data,Price_data,on=\"id\",how = \"left\")\n",
        "print(\"The Number of NAN values in PRoject_data : \",Project_data.isnull().sum())"
      ],
      "execution_count": 0,
      "outputs": [
        {
          "output_type": "stream",
          "text": [
            "The Number of NAN values in PRoject_data :  Unnamed: 0                                      0\n",
            "id                                              0\n",
            "teacher_id                                      0\n",
            "teacher_prefix                                  0\n",
            "project_grade_category                          0\n",
            "project_resource_summary                        0\n",
            "teacher_number_of_previously_posted_projects    0\n",
            "project_is_approved                             0\n",
            "Date                                            0\n",
            "clean_categories                                0\n",
            "clean_sub_categories                            0\n",
            "School_state                                    0\n",
            "essay                                           0\n",
            "clean_titles                                    0\n",
            "price                                           0\n",
            "quantity                                        0\n",
            "dtype: int64\n"
          ],
          "name": "stdout"
        }
      ]
    },
    {
      "cell_type": "code",
      "metadata": {
        "id": "SD2ma3H93ec1",
        "colab_type": "code",
        "outputId": "97342030-81d1-4ea8-f596-3f52942526b4",
        "colab": {
          "base_uri": "https://localhost:8080/",
          "height": 139
        }
      },
      "source": [
        "# Project_data = Project_data.head(50000)\n",
        "Y = Project_data[\"project_is_approved\"].values\n",
        "X = Project_data.drop([\"project_is_approved\"],axis = 1)\n",
        "print(X.columns)\n",
        "print(Project_data.shape)"
      ],
      "execution_count": 0,
      "outputs": [
        {
          "output_type": "stream",
          "text": [
            "Index(['Unnamed: 0', 'id', 'teacher_id', 'teacher_prefix',\n",
            "       'project_grade_category', 'project_resource_summary',\n",
            "       'teacher_number_of_previously_posted_projects', 'Date',\n",
            "       'clean_categories', 'clean_sub_categories', 'School_state', 'essay',\n",
            "       'clean_titles', 'price', 'quantity'],\n",
            "      dtype='object')\n",
            "(109248, 16)\n"
          ],
          "name": "stdout"
        }
      ]
    },
    {
      "cell_type": "code",
      "metadata": {
        "id": "-io7wIE2igzB",
        "colab_type": "code",
        "colab": {}
      },
      "source": [
        "#Splitting the data into train and test data_set\n",
        "from sklearn.model_selection import train_test_split\n",
        "X_train, X_test, Y_train, Y_test = train_test_split(X, Y, test_size=0.33, stratify= Project_data['project_is_approved'],random_state=0)\n",
        "X_train, X_cv, Y_train, Y_cv = train_test_split(X_train, Y_train, test_size=0.33, stratify=Y_train)"
      ],
      "execution_count": 0,
      "outputs": []
    },
    {
      "cell_type": "code",
      "metadata": {
        "id": "5MU-P8V4WIVF",
        "colab_type": "code",
        "colab": {}
      },
      "source": [
        ""
      ],
      "execution_count": 0,
      "outputs": []
    },
    {
      "cell_type": "code",
      "metadata": {
        "id": "wjEkr5AYmwcC",
        "colab_type": "code",
        "outputId": "a94e6cc4-ddf2-4485-f50d-0cce46eb3e4c",
        "colab": {
          "base_uri": "https://localhost:8080/",
          "height": 52
        }
      },
      "source": [
        "from imblearn.over_sampling import RandomOverSampler\n",
        "from collections import Counter\n",
        "import warnings\n",
        "warnings.filterwarnings(\"ignore\")\n",
        "\n",
        "ros = RandomOverSampler(sampling_strategy='minority',random_state=42)\n",
        "x_train, y_train = ros.fit_resample(X_train, Y_train)\n",
        "print('Resampled dataset shape %s' % Counter(y_train))\n",
        "print(\"Capitial\" ,\"X\",\"represents the original train_data and lower case\" ,\"x\", \"represnts the ramdonly over-sampled data\")"
      ],
      "execution_count": 0,
      "outputs": [
        {
          "output_type": "stream",
          "text": [
            "Resampled dataset shape Counter({1: 41615, 0: 41615})\n",
            "Capitial X represents the original train_data and lower case x represnts the ramdonly over-sampled data\n"
          ],
          "name": "stdout"
        }
      ]
    },
    {
      "cell_type": "code",
      "metadata": {
        "id": "sONFGQzAt0-6",
        "colab_type": "code",
        "outputId": "930d652f-ce32-468d-9378-8a477d97ae7b",
        "colab": {
          "base_uri": "https://localhost:8080/",
          "height": 35
        }
      },
      "source": [
        "# here we have to convert x into a dataframe \n",
        "x_train = pd.DataFrame(x_train,columns = X.columns)\n",
        "x_train.shape\n",
        "# s= Project_data['project_is_approved'].value_counts()\n",
        "# s\n"
      ],
      "execution_count": 0,
      "outputs": [
        {
          "output_type": "execute_result",
          "data": {
            "text/plain": [
              "(83230, 15)"
            ]
          },
          "metadata": {
            "tags": []
          },
          "execution_count": 85
        }
      ]
    },
    {
      "cell_type": "code",
      "metadata": {
        "id": "IT2ZHvTRujYT",
        "colab_type": "code",
        "outputId": "c83ed308-e8a5-4ebf-9fe7-d5e5f5d4dc91",
        "colab": {
          "base_uri": "https://localhost:8080/",
          "height": 121
        }
      },
      "source": [
        "print(\"Shape of Train data \",x_train.shape, y_train.shape)\n",
        "print(\"=\"*100)\n",
        "print(\"Shape of Train CV  data \",X_cv.shape, Y_cv.shape)\n",
        "print(\"=\"*100)\n",
        "print(\"Shape of Test data \",X_test.shape, Y_test.shape)\n",
        "print(\"=\"*100)"
      ],
      "execution_count": 0,
      "outputs": [
        {
          "output_type": "stream",
          "text": [
            "Shape of Train data  (83230, 15) (83230,)\n",
            "====================================================================================================\n",
            "Shape of Train CV  data  (24155, 15) (24155,)\n",
            "====================================================================================================\n",
            "Shape of Test data  (36052, 15) (36052,)\n",
            "====================================================================================================\n"
          ],
          "name": "stdout"
        }
      ]
    },
    {
      "cell_type": "markdown",
      "metadata": {
        "id": "YoNdUxy4xNwJ",
        "colab_type": "text"
      },
      "source": [
        "## 1.2 Vectorizing data \n",
        "\n",
        "```\n",
        "# One-Hotencoding for the Catogorial Values\n",
        "# Standazing the Numerical Data for sclaing them to equal sclae \n",
        "```\n",
        "\n"
      ]
    },
    {
      "cell_type": "code",
      "metadata": {
        "id": "zs2Kj9MZw0M2",
        "colab_type": "code",
        "outputId": "7cfe3e83-9603-4bcf-b2b6-25b154058f0e",
        "colab": {
          "base_uri": "https://localhost:8080/",
          "height": 87
        }
      },
      "source": [
        "vectorizer1 = CountVectorizer()\n",
        "vectorizer1.fit(x_train['clean_sub_categories']) # fit has to happen only on train data\n",
        "# we use the fitted CountVectorizer to convert the text to vector\n",
        "x_train_clean_subcat_ohe = vectorizer1.transform(x_train['clean_sub_categories'])\n",
        "X_cv_clean_subcat_ohe = vectorizer1.transform(X_cv['clean_sub_categories'])\n",
        "X_test_clean_subcat_ohe = vectorizer1.transform(X_test['clean_sub_categories'])\n",
        "\n",
        "print(\"After vectorizations of the clean_sub_categories , One-hot-encoding shape of the data is\")\n",
        "print(\"Shape of Train data \",x_train_clean_subcat_ohe.shape, y_train.shape)\n",
        "print(\"Shape of Train CV  data \",X_cv_clean_subcat_ohe.shape, Y_cv.shape)\n",
        "print(\"Shape of Test data \" ,X_test_clean_subcat_ohe.shape, Y_test.shape)"
      ],
      "execution_count": 0,
      "outputs": [
        {
          "output_type": "stream",
          "text": [
            "After vectorizations of the clean_sub_categories , One-hot-encoding shape of the data is\n",
            "Shape of Train data  (83230, 30) (83230,)\n",
            "Shape of Train CV  data  (24155, 30) (24155,)\n",
            "Shape of Test data  (36052, 30) (36052,)\n"
          ],
          "name": "stdout"
        }
      ]
    },
    {
      "cell_type": "code",
      "metadata": {
        "id": "Gzu3SR-Fylai",
        "colab_type": "code",
        "outputId": "cb17efa1-fd23-4e81-a6cb-add14c43cf03",
        "colab": {
          "base_uri": "https://localhost:8080/",
          "height": 87
        }
      },
      "source": [
        "vectorizer2 = CountVectorizer()\n",
        "vectorizer2.fit(x_train['clean_categories']) # fit has to happen only on train data\n",
        "\n",
        "\n",
        "# we use the fitted CountVectorizer to convert the text to vector\n",
        "x_train_clean_categories_ohe = vectorizer2.transform(x_train['clean_categories'])\n",
        "X_cv_clean_categories_ohe = vectorizer2.transform(X_cv['clean_categories'])\n",
        "X_test_clean_categories_ohe = vectorizer2.transform(X_test['clean_categories'])\n",
        "\n",
        "print(\"After vectorizations of the clean_categories, One-hot-encoding shape of the data is\")\n",
        "print(\"Shape of Train data \",x_train_clean_categories_ohe.shape, y_train.shape)\n",
        "print(\"Shape of Train CV  data \",X_cv_clean_categories_ohe.shape, Y_cv.shape)\n",
        "print(\"Shape of Test data \" ,X_test_clean_categories_ohe.shape, Y_test.shape)"
      ],
      "execution_count": 0,
      "outputs": [
        {
          "output_type": "stream",
          "text": [
            "After vectorizations of the clean_categories, One-hot-encoding shape of the data is\n",
            "Shape of Train data  (83230, 9) (83230,)\n",
            "Shape of Train CV  data  (24155, 9) (24155,)\n",
            "Shape of Test data  (36052, 9) (36052,)\n"
          ],
          "name": "stdout"
        }
      ]
    },
    {
      "cell_type": "code",
      "metadata": {
        "id": "XidVyz8IyxuN",
        "colab_type": "code",
        "outputId": "9ddc6720-ebdb-43a2-d0af-63b78ac9a591",
        "colab": {
          "base_uri": "https://localhost:8080/",
          "height": 87
        }
      },
      "source": [
        "vectorizer3 = CountVectorizer()\n",
        "vectorizer3.fit(x_train['teacher_prefix'].values.astype('U')) # fit has to happen only on train data\n",
        "\n",
        "# we use the fitted CountVectorizer to convert the text to vector\n",
        "x_train_teacher_ohe = vectorizer3.transform(x_train['teacher_prefix'].values.astype('U'))\n",
        "X_cv_teacher_ohe = vectorizer3.transform(X_cv['teacher_prefix'].values.astype('U'))\n",
        "X_test_teacher_ohe = vectorizer3.transform(X_test['teacher_prefix'].values.astype('U'))\n",
        "\n",
        "print(\"After vectorizations of the teacher_prefix , One-hot-encoding shape of the data is\")\n",
        "print(\"Shape of Train data \",x_train_teacher_ohe.shape, y_train.shape)\n",
        "print(\"Shape of Train CV  data \",X_cv_teacher_ohe.shape, Y_cv.shape)\n",
        "print(\"Shape of Test data \" ,X_test_teacher_ohe.shape, Y_test.shape)"
      ],
      "execution_count": 0,
      "outputs": [
        {
          "output_type": "stream",
          "text": [
            "After vectorizations of the teacher_prefix , One-hot-encoding shape of the data is\n",
            "Shape of Train data  (83230, 6) (83230,)\n",
            "Shape of Train CV  data  (24155, 6) (24155,)\n",
            "Shape of Test data  (36052, 6) (36052,)\n"
          ],
          "name": "stdout"
        }
      ]
    },
    {
      "cell_type": "code",
      "metadata": {
        "id": "M5PdIP-H0hXP",
        "colab_type": "code",
        "outputId": "72549fd1-f1e6-43c6-c4b6-c96f30939cc5",
        "colab": {
          "base_uri": "https://localhost:8080/",
          "height": 87
        }
      },
      "source": [
        "vectorizer4 = CountVectorizer()\n",
        "vectorizer4.fit(x_train['School_state'].values) # fit has to happen only on train data\n",
        "\n",
        "# we use the fitted CountVectorizer to convert the text to vector\n",
        "x_train_state_ohe = vectorizer4.transform(x_train['School_state'].values)\n",
        "X_cv_state_ohe = vectorizer4.transform(X_cv['School_state'].values)\n",
        "X_test_state_ohe = vectorizer4.transform(X_test['School_state'].values)\n",
        "\n",
        "print(\"After vectorizations of the School_state , One-hot-encoding shape of the data is\")\n",
        "print(\"Shape of Train data \",x_train_state_ohe.shape, y_train.shape)\n",
        "print(\"Shape of Train CV  data \",X_cv_state_ohe.shape, Y_cv.shape)\n",
        "print(\"Shape of Test data \" ,X_test_state_ohe.shape, Y_test.shape)"
      ],
      "execution_count": 0,
      "outputs": [
        {
          "output_type": "stream",
          "text": [
            "After vectorizations of the School_state , One-hot-encoding shape of the data is\n",
            "Shape of Train data  (83230, 51) (83230,)\n",
            "Shape of Train CV  data  (24155, 51) (24155,)\n",
            "Shape of Test data  (36052, 51) (36052,)\n"
          ],
          "name": "stdout"
        }
      ]
    },
    {
      "cell_type": "code",
      "metadata": {
        "id": "VYuw5tvsTMKs",
        "colab_type": "code",
        "outputId": "7a38725d-bd39-4af7-b828-6b18a68929f0",
        "colab": {
          "base_uri": "https://localhost:8080/",
          "height": 35
        }
      },
      "source": [
        "grade_cat_list = []\n",
        "for grade in X_train['project_grade_category'].values:\n",
        "  grade = grade.replace(\"-\",\"_\").lower()\n",
        "  grade = grade.replace(\" \",\"_\").lower()\n",
        "  grade_cat_list.append(grade)\n",
        "\n",
        "\n",
        "X_train['clean_grade'] = grade_cat_list\n",
        "X_train.drop(['project_grade_category'], axis=1, inplace=True)\n",
        "\n",
        "my_counter = Counter()\n",
        "for word in X_train['clean_grade'].values:\n",
        "     my_counter.update(word.split())\n",
        "project_grade_category_dict= dict(my_counter)\n",
        "sorted_project_grade_category_dict = dict(sorted(project_grade_category_dict.items(), key=lambda kv: kv[1]))\n",
        "print(sorted_project_grade_category_dict)"
      ],
      "execution_count": 0,
      "outputs": [
        {
          "output_type": "stream",
          "text": [
            "{'grades_9_12': 4928, 'grades_6_8': 7534, 'grades_3_5': 16645, 'grades_prek_2': 19934}\n"
          ],
          "name": "stdout"
        }
      ]
    },
    {
      "cell_type": "code",
      "metadata": {
        "id": "H5NpqgeU1y-y",
        "colab_type": "code",
        "outputId": "c64cc357-4812-4a1b-f215-bd1630235976",
        "colab": {
          "base_uri": "https://localhost:8080/",
          "height": 87
        }
      },
      "source": [
        "vectorizer5 = CountVectorizer(vocabulary=list(sorted_project_grade_category_dict.keys()), lowercase=False, binary=True)\n",
        "vectorizer5.fit(x_train['project_grade_category'].values) # fit has to happen only on train data\n",
        "# we use the fitted CountVectorizer to convert the text to vector\n",
        "x_train_grade_ohe = vectorizer5.transform(x_train['project_grade_category'].values)\n",
        "X_cv_grade_ohe = vectorizer5.transform(X_cv['project_grade_category'].values)\n",
        "X_test_grade_ohe = vectorizer5.transform(X_test['project_grade_category'].values)\n",
        "\n",
        "print(\"After vectorizations of the project_grade_category , One-hot-encoding shape of the data is\")\n",
        "print(\"Shape of Train data \",x_train_grade_ohe.shape, y_train.shape)\n",
        "print(\"Shape of Train CV  data \",X_cv_grade_ohe.shape, Y_cv.shape)\n",
        "print(\"Shape of Test data \" ,X_test_grade_ohe.shape,Y_test.shape)"
      ],
      "execution_count": 0,
      "outputs": [
        {
          "output_type": "stream",
          "text": [
            "After vectorizations of the project_grade_category , One-hot-encoding shape of the data is\n",
            "Shape of Train data  (83230, 4) (83230,)\n",
            "Shape of Train CV  data  (24155, 4) (24155,)\n",
            "Shape of Test data  (36052, 4) (36052,)\n"
          ],
          "name": "stdout"
        }
      ]
    },
    {
      "cell_type": "markdown",
      "metadata": {
        "id": "N3C9CHVaCRht",
        "colab_type": "text"
      },
      "source": [
        "### Normalizing the numerical features: Price"
      ]
    },
    {
      "cell_type": "code",
      "metadata": {
        "id": "9VH2Ay-QCIYn",
        "colab_type": "code",
        "outputId": "44dbc291-7e91-4d66-b7e1-27a925b28748",
        "colab": {
          "base_uri": "https://localhost:8080/",
          "height": 87
        }
      },
      "source": [
        "from sklearn.preprocessing import Normalizer\n",
        "standard_vector1 = Normalizer()\n",
        "# this will rise an error Expected 2D array, got 1D array instead: \n",
        "# array=[105.22 215.96  96.01 ... 368.98  80.53 709.67].\n",
        "# Reshape your data either using \n",
        "# array.reshape(-1, 1) if your data has a single feature \n",
        "# array.reshapstandard_vector2e(1, -1)  if it contains a single sample.\n",
        "standard_vector1.fit(x_train['price'].values.reshape(-1,1))\n",
        "\n",
        "x_train_price_std = standard_vector1.transform(x_train['price'].values.reshape(-1,1))\n",
        "X_cv_price_std = standard_vector1.transform(X_cv['price'].values.reshape(-1,1))\n",
        "X_test_price_std = standard_vector1.transform(X_test['price'].values.reshape(-1,1))\n",
        "\n",
        "print(\"After vectorizations of the price data ,  shape of the data after standazing\")\n",
        "print(x_train_price_std.shape, y_train.shape)\n",
        "print(X_cv_price_std.shape, Y_cv.shape)\n",
        "print(X_test_price_std.shape, Y_test.shape)"
      ],
      "execution_count": 0,
      "outputs": [
        {
          "output_type": "stream",
          "text": [
            "After vectorizations of the price data ,  shape of the data after standazing\n",
            "(83230, 1) (83230,)\n",
            "(24155, 1) (24155,)\n",
            "(36052, 1) (36052,)\n"
          ],
          "name": "stdout"
        }
      ]
    },
    {
      "cell_type": "code",
      "metadata": {
        "id": "ZrgcGoRqD8dw",
        "colab_type": "code",
        "outputId": "86dc367c-e2ae-405c-9b46-5f40245e934b",
        "colab": {
          "base_uri": "https://localhost:8080/",
          "height": 87
        }
      },
      "source": [
        "from sklearn.preprocessing import Normalizer\n",
        "standard_vector2 = Normalizer()\n",
        "# this will rise an error Expected 2D array, got 1D array instead: \n",
        "# array=[105.22 215.96  96.01 ... 368.98  80.53 709.67].\n",
        "# Reshape your data either using \n",
        "# array.reshape(-1, 1) if your data has a single feature \n",
        "# array.reshape(1, -1)  if it contains a single sample.\n",
        "standard_vector2.fit(x_train['teacher_number_of_previously_posted_projects'].values.reshape(-1,1))\n",
        "\n",
        "x_train_projects_std = standard_vector2.transform(x_train['teacher_number_of_previously_posted_projects'].values.reshape(-1,1))\n",
        "X_cv_projects_std = standard_vector2.transform(X_cv['teacher_number_of_previously_posted_projects'].values.reshape(-1,1))\n",
        "X_test_projects_std = standard_vector2.transform(X_test['teacher_number_of_previously_posted_projects'].values.reshape(-1,1))\n",
        "\n",
        "print(\"After vectorizations of the teacher_number_of_previously_posted_projects , shape of the data after standazing\")\n",
        "print(x_train_projects_std.shape, y_train.shape)\n",
        "print(X_cv_projects_std.shape,Y_cv.shape)\n",
        "print(X_test_projects_std.shape, Y_test.shape)"
      ],
      "execution_count": 0,
      "outputs": [
        {
          "output_type": "stream",
          "text": [
            "After vectorizations of the teacher_number_of_previously_posted_projects , shape of the data after standazing\n",
            "(83230, 1) (83230,)\n",
            "(24155, 1) (24155,)\n",
            "(36052, 1) (36052,)\n"
          ],
          "name": "stdout"
        }
      ]
    },
    {
      "cell_type": "code",
      "metadata": {
        "id": "VYqTOVGHEA-F",
        "colab_type": "code",
        "outputId": "c22e1444-132b-4574-e378-26e07a3dcb7e",
        "colab": {
          "base_uri": "https://localhost:8080/",
          "height": 87
        }
      },
      "source": [
        "from sklearn.preprocessing import Normalizer\n",
        "standard_vector3 = Normalizer()\n",
        "# this will rise an error Expected 2D array, got 1D array instead: \n",
        "# array=[105.22 215.96  96.01 ... 368.98  80.53 709.67].\n",
        "# Reshape your data either using \n",
        "# array.reshape(-1, 1) if your data has a single feature \n",
        "# array.reshape(1, -1)  if it contains a single sample.\n",
        "standard_vector3.fit(x_train['quantity'].values.reshape(-1,1))\n",
        "\n",
        "x_train_qty_std = standard_vector3.transform(x_train['quantity'].values.reshape(-1,1))\n",
        "X_cv_qty_std = standard_vector3.transform(X_cv['quantity'].values.reshape(-1,1))\n",
        "X_test_qty_std = standard_vector3.transform(X_test['quantity'].values.reshape(-1,1))\n",
        "\n",
        "print(\"After vectorizations\")\n",
        "print(x_train_qty_std.shape, y_train.shape)\n",
        "print(X_cv_qty_std.shape, Y_cv.shape)\n",
        "print(X_test_qty_std.shape, Y_test.shape)"
      ],
      "execution_count": 0,
      "outputs": [
        {
          "output_type": "stream",
          "text": [
            "After vectorizations\n",
            "(83230, 1) (83230,)\n",
            "(24155, 1) (24155,)\n",
            "(36052, 1) (36052,)\n"
          ],
          "name": "stdout"
        }
      ]
    },
    {
      "cell_type": "markdown",
      "metadata": {
        "id": "pr7M6Y4NEZVi",
        "colab_type": "text"
      },
      "source": [
        "## 2.1 Apply Multinomial NaiveBayes on these feature sets\n",
        "\n",
        "\n",
        "```\n",
        "Set 1: categorical, numerical features + project_title(BOW) + preprocessed_eassay (BOW)\n",
        "Set 2: categorical, numerical features + project_title(TFIDF)+ preprocessed_eassay (TFIDF)\n",
        "\n",
        "`**Difference between fit(),transform(),fit_transform()**`\n",
        "To center the data (make it have zero mean and unit standard error), you subtract the mean and then divide the result by the\n",
        "standard deviation.\n",
        "fit() just calculates the parameters (e.g. mu and sigma in case of StandardScaler) and saves them as an internal objects state.\n",
        "Afterwards, you can call its transform() method to apply the transformation to a particular set of examples\n",
        "for egs fit() function happens only on training data while transform () involves changing the values by keeping mu and sigma in\n",
        "calculation x'= ((x-mu)/sigma))\n",
        "Using fix_transform(), we join these two steps and is used for the initial fitting of parameters on the training set x, but it also\n",
        "returns a transformed x′. Internally, it just calls first fit() and then transform() on the same data.\n",
        "generally fit_transform() should be applied on train data,and not on cv and test data,once fit has been done then we can use\n",
        "transform () on cv and test data\n",
        "\n",
        "```\n",
        "\n"
      ]
    },
    {
      "cell_type": "markdown",
      "metadata": {
        "id": "pefnxv8pJvOU",
        "colab_type": "text"
      },
      "source": [
        "## 2.1.1 Set : 1 Applying Naive Bayes on categorical, numerical features + project_title(BOW) + preprocessed_eassay (BOW)"
      ]
    },
    {
      "cell_type": "code",
      "metadata": {
        "id": "XJIidZNLEXu7",
        "colab_type": "code",
        "outputId": "436009f1-a697-4fef-ef84-98222eebc6ce",
        "colab": {
          "base_uri": "https://localhost:8080/",
          "height": 104
        }
      },
      "source": [
        "from sklearn.feature_extraction.text import CountVectorizer\n",
        "vectorizer6 = CountVectorizer(min_df=5,tokenizer = lambda x: x.split(), max_features=20000,ngram_range=(1, 4))\n",
        "vectorizer6.fit(x_train['essay'].values) # fit has to happen only on train data\n",
        "\n",
        "# we use the transform Text_data to vector , BOW CountVectorizer\n",
        "x_train_essay_bow = vectorizer6.transform(x_train['essay'].values) # this the vectorization of the oversampled data we do it as we dont want a baised model \n",
        "X_cv_essay_bow = vectorizer6.transform(X_cv['essay'].values)  # here we use the X_CV for vectorization( only x_train is oversampled)\n",
        "X_test_essay_bow = vectorizer6.transform(X_test['essay'].values)\n",
        "\n",
        "print(\"*\"*100)\n",
        "print(\"After vectorizations of the essay data the shape of the data is \")\n",
        "print(\"Shape of the x_train data after Vectorization using BOW \" , x_train_essay_bow.shape, y_train.shape)\n",
        "print(\"Shape of the X_cv data after Vectorization using BOW \" ,    X_cv_essay_bow.shape, Y_cv.shape)\n",
        "print(\"Shape of the X_test_ data after Vectorization using BOW \" ,    X_test_essay_bow.shape, Y_test.shape)"
      ],
      "execution_count": 0,
      "outputs": [
        {
          "output_type": "stream",
          "text": [
            "****************************************************************************************************\n",
            "After vectorizations of the essay data the shape of the data is \n",
            "Shape of the x_train data after Vectorization using BOW  (83230, 20000) (83230,)\n",
            "Shape of the X_cv data after Vectorization using BOW  (24155, 20000) (24155,)\n",
            "Shape of the X_test_ data after Vectorization using BOW  (36052, 20000) (36052,)\n"
          ],
          "name": "stdout"
        }
      ]
    },
    {
      "cell_type": "code",
      "metadata": {
        "id": "X1FhC_xMKMXI",
        "colab_type": "code",
        "outputId": "d9c9bf88-6ed4-42c2-c81d-8998eef64963",
        "colab": {
          "base_uri": "https://localhost:8080/",
          "height": 87
        }
      },
      "source": [
        "from sklearn.feature_extraction.text import CountVectorizer\n",
        "vectorizer7 = CountVectorizer(min_df=5,tokenizer = lambda x: x.split(), max_features=5000)\n",
        "vectorizer7.fit(x_train['clean_titles'].values) # fit has to happen only on train data\n",
        "\n",
        "# we use the fitted CountVectorizer to convert the text to vector\n",
        "x_train_titles_bow = vectorizer7.transform(x_train['clean_titles'].values)\n",
        "X_cv_titles_bow = vectorizer7.transform(X_cv['clean_titles'].values)\n",
        "X_test_titles_bow = vectorizer7.transform(X_test['clean_titles'].values)\n",
        "\n",
        "print(\"After vectorizations of the clean_titles(Project Titles) data the shape of the data is\")\n",
        "print(\"Shape of the x_train data after Vectorization using BOW \" ,x_train_titles_bow.shape, y_train.shape)\n",
        "print(\"Shape of the X_cv data after Vectorization using BOW \" ,X_cv_titles_bow.shape, Y_cv.shape)\n",
        "print(\"Shape of the X_test_ data after Vectorization using BOW \" ,X_test_titles_bow.shape, Y_test.shape)"
      ],
      "execution_count": 0,
      "outputs": [
        {
          "output_type": "stream",
          "text": [
            "After vectorizations of the clean_titles(Project Titles) data the shape of the data is\n",
            "Shape of the x_train data after Vectorization using BOW  (83230, 4803) (83230,)\n",
            "Shape of the X_cv data after Vectorization using BOW  (24155, 4803) (24155,)\n",
            "Shape of the X_test_ data after Vectorization using BOW  (36052, 4803) (36052,)\n"
          ],
          "name": "stdout"
        }
      ]
    },
    {
      "cell_type": "code",
      "metadata": {
        "id": "ksnATYI5Meg_",
        "colab_type": "code",
        "outputId": "bacdeab8-2e86-4917-e33b-6d147ae21986",
        "colab": {
          "base_uri": "https://localhost:8080/",
          "height": 104
        }
      },
      "source": [
        "from sklearn.feature_extraction.text import CountVectorizer\n",
        "vectorizer8 = CountVectorizer(min_df=5,tokenizer = lambda x: x.split(), max_features=10000,ngram_range=(1, 4))\n",
        "vectorizer8.fit(x_train['project_resource_summary']) # fit has to happen only on train data\n",
        "\n",
        "# we use the fitted CountVectorizer to convert the text to vector\n",
        "x_train_summary_bow = vectorizer8.transform(x_train['project_resource_summary'])\n",
        "X_cv_summary_bow = vectorizer8.transform(X_cv['project_resource_summary'])\n",
        "X_test_summary_bow = vectorizer8.transform(X_test['project_resource_summary'])\n",
        "\n",
        "print(\"After vectorizations of the project_resource_summary data the shape of the data is\")\n",
        "print(\"Shape of the x_train data after Vectorization using BOW \" ,x_train_summary_bow.shape, y_train.shape)\n",
        "print(\"Shape of the X_cv data after Vectorization using BOW \" ,X_cv_summary_bow.shape, Y_cv.shape)\n",
        "print(\"Shape of the X_test_ data after Vectorization using BOW \" ,X_test_summary_bow.shape, Y_test.shape)\n",
        "print(\"*\"*100)"
      ],
      "execution_count": 0,
      "outputs": [
        {
          "output_type": "stream",
          "text": [
            "After vectorizations of the project_resource_summary data the shape of the data is\n",
            "Shape of the x_train data after Vectorization using BOW  (83230, 10000) (83230,)\n",
            "Shape of the X_cv data after Vectorization using BOW  (24155, 10000) (24155,)\n",
            "Shape of the X_test_ data after Vectorization using BOW  (36052, 10000) (36052,)\n",
            "****************************************************************************************************\n"
          ],
          "name": "stdout"
        }
      ]
    },
    {
      "cell_type": "markdown",
      "metadata": {
        "id": "q3zoq0M8N5O8",
        "colab_type": "text"
      },
      "source": [
        "### Merging all the Vectorized data for making the Data matrix "
      ]
    },
    {
      "cell_type": "code",
      "metadata": {
        "id": "t7V49ZddNu6p",
        "colab_type": "code",
        "outputId": "a0f806dc-abdd-4c30-b3a6-9a9702bf60d5",
        "colab": {
          "base_uri": "https://localhost:8080/",
          "height": 87
        }
      },
      "source": [
        "from scipy.sparse import hstack\n",
        "X1_tr = hstack((x_train_clean_categories_ohe,x_train_clean_subcat_ohe,x_train_teacher_ohe,x_train_state_ohe,\\\n",
        "                x_train_grade_ohe,x_train_titles_bow,x_train_essay_bow,x_train_price_std,x_train_projects_std,x_train_qty_std)).tocsr()\n",
        "X1_cv = hstack((X_cv_clean_categories_ohe,X_cv_clean_subcat_ohe,X_cv_teacher_ohe,X_cv_state_ohe,X_cv_grade_ohe,\\\n",
        "                X_cv_price_std,X_cv_projects_std,X_cv_qty_std,X_cv_essay_bow,X_cv_titles_bow)).tocsr()\n",
        "X1_te =hstack((X_test_clean_categories_ohe,X_test_clean_subcat_ohe,X_test_teacher_ohe,X_test_state_ohe,\\\n",
        "               X_test_grade_ohe,X_test_essay_bow,X_test_titles_bow,X_test_price_std,X_test_projects_std,X_test_qty_std)).tocsr()\n",
        "\n",
        "\n",
        "print(\"The final Data Matrix for Set:1\" , \" All the shapes of the data represent the merged features as mentioned in the tittle\")\n",
        "print(\"shape of X_train is : \",            X1_tr.shape)\n",
        "print(\"shape of X_Cross validation is :\" , X1_cv.shape)\n",
        "print(\"shape of X_test is \",               X1_te.shape)"
      ],
      "execution_count": 0,
      "outputs": [
        {
          "output_type": "stream",
          "text": [
            "The final Data Matrix for Set:1  All the shapes of the data represent the merged features as mentioned in the tittle\n",
            "shape of X_train is :  (83230, 24906)\n",
            "shape of X_Cross validation is : (24155, 24906)\n",
            "shape of X_test is  (36052, 24906)\n"
          ],
          "name": "stdout"
        }
      ]
    },
    {
      "cell_type": "code",
      "metadata": {
        "id": "laL5DTXeSCay",
        "colab_type": "code",
        "outputId": "6b109d72-c418-40ca-cd60-3046262bcd98",
        "colab": {
          "base_uri": "https://localhost:8080/",
          "height": 354
        }
      },
      "source": [
        "import matplotlib.pyplot as plt\n",
        "from sklearn.naive_bayes import MultinomialNB\n",
        "from sklearn.metrics import roc_auc_score\n",
        "import math\n",
        "\n",
        "train_auc = []\n",
        "cv_auc = [] \n",
        "alpha = [0.00001, 0.0001, 0.001, 0.01, 0.1, 1, 10,  100,  1000] \n",
        "for i in tqdm(alpha):\n",
        "    neigh = MultinomialNB(alpha=i,class_prior=[0.5,0.5])\n",
        "    neigh.fit(X1_tr, y_train)\n",
        "\n",
        "    y_train_pred = neigh.predict_proba(X1_tr)[:,1]    \n",
        "    y_cv_pred = neigh.predict_proba(X1_cv)[:,1]\n",
        "\n",
        "    # roc_auc_score(y_tr, y_score) the 2nd parameter should be probability estimates of the positive class\n",
        "    # not the predicted outputs        \n",
        "    train_auc.append(roc_auc_score(y_train,y_train_pred))\n",
        "    cv_auc.append(roc_auc_score(Y_cv, y_cv_pred))\n",
        "  \n",
        "plt.semilogx(alpha, train_auc, label='Train AUC')\n",
        "plt.semilogx(alpha, cv_auc, label='CV AUC')\n",
        "\n",
        "plt.scatter(alpha, train_auc, label='Train AUC points')\n",
        "plt.scatter(alpha, cv_auc, label='CV AUC points')\n",
        "print(\"Ploting the Log values of alpha as it would exactly plot the values of the point's considered \")\n",
        "plt.legend()\n",
        "plt.xlabel(\"log_alphas: hyperparameter\")\n",
        "plt.ylabel(\"AUC\")\n",
        "plt.title(\"ERROR PLOTS\")\n",
        "plt.grid(color='black', linestyle='-', linewidth=0.5)\n",
        "plt.show()"
      ],
      "execution_count": 0,
      "outputs": [
        {
          "output_type": "stream",
          "text": [
            "100%|██████████| 9/9 [00:03<00:00,  2.64it/s]\n"
          ],
          "name": "stderr"
        },
        {
          "output_type": "stream",
          "text": [
            "Ploting the Log values of alpha as it would exactly plot the values of the point's considered \n"
          ],
          "name": "stdout"
        },
        {
          "output_type": "display_data",
          "data": {
            "image/png": "[encoded data removed]",
            "text/plain": [
              "<Figure size 432x288 with 1 Axes>"
            ]
          },
          "metadata": {
            "tags": []
          }
        }
      ]
    },
    {
      "cell_type": "code",
      "metadata": {
        "id": "pgiHsTx9kuBX",
        "colab_type": "code",
        "outputId": "24d993ca-a66a-4096-b6b3-97d6d9d73b4d",
        "colab": {
          "base_uri": "https://localhost:8080/",
          "height": 35
        }
      },
      "source": [
        "alpha1= 100\n",
        "print(\"The Error Plot above shows the best Aplha value as :\" , alpha )"
      ],
      "execution_count": 0,
      "outputs": [
        {
          "output_type": "stream",
          "text": [
            "The Error Plot above shows the best Aplha value as : [1e-05, 0.0001, 0.001, 0.01, 0.1, 1, 10, 100, 1000]\n"
          ],
          "name": "stdout"
        }
      ]
    },
    {
      "cell_type": "code",
      "metadata": {
        "id": "J7KhmjOFuBI5",
        "colab_type": "code",
        "outputId": "133c11f4-ab06-4d40-9d47-b00c3293d182",
        "colab": {
          "base_uri": "https://localhost:8080/",
          "height": 315
        }
      },
      "source": [
        "from sklearn.metrics import roc_curve, auc\n",
        "neigh = MultinomialNB(alpha=alpha1,class_prior=[0.5,0.5])\n",
        "neigh.fit(X1_tr, y_train)\n",
        "y_train_pred = neigh.predict_proba(X1_tr)[:,1]     \n",
        "y_test_pred = neigh.predict_proba(X1_te)[:,1] \n",
        "train_fpr, train_tpr, tr_thresholds = roc_curve(y_train, y_train_pred)\n",
        "test_fpr, test_tpr, te_thresholds = roc_curve(Y_test, y_test_pred)\n",
        "plt.plot(train_fpr, train_tpr, label=\"Train AUC =\"+str(auc(train_fpr, train_tpr)))\n",
        "plt.plot(test_fpr, test_tpr, label=\"Test AUC =\"+str(auc(test_fpr, test_tpr)))\n",
        "plt.legend()\n",
        "plt.xlabel(\"False Positive Rate\")\n",
        "plt.ylabel(\"True Positive Rate\")\n",
        "plt.title(\"AUC ROC Curve \")\n",
        "plt.grid(color='black', linestyle='-', linewidth=1)\n",
        "plt.show()"
      ],
      "execution_count": 0,
      "outputs": [
        {
          "output_type": "display_data",
          "data": {
            "image/png": "[encoded data removed]",
            "text/plain": [
              "<Figure size 432x288 with 1 Axes>"
            ]
          },
          "metadata": {
            "tags": []
          }
        }
      ]
    },
    {
      "cell_type": "code",
      "metadata": {
        "id": "UYeJT_S2bPH6",
        "colab_type": "code",
        "colab": {}
      },
      "source": [
        "#this is the custom function for predecting the best thershold and sorting the values according the threshould \n",
        "def find_best_threshold(threshould, fpr, tpr):\n",
        "    t = threshould[np.argmax(tpr*(1-fpr))]\n",
        "    # (tpr*(1-fpr)) will be maximum if your fpr is very low and tpr is very high\n",
        "    print(\"the maximum value of tpr*(1-fpr)\", np.round(max(tpr*(1-fpr)),3), \"for threshold\", np.round(t,3))\n",
        "    return t"
      ],
      "execution_count": 0,
      "outputs": []
    },
    {
      "cell_type": "code",
      "metadata": {
        "id": "RWiB_mfJ_AtA",
        "colab_type": "code",
        "colab": {}
      },
      "source": [
        "# we only set the threshould by using the train data and the test data is not altered at any time , as it could cause the data leakeage problem \n",
        "def predict_with_best_t(proba, threshould):\n",
        "    predictions = []\n",
        "    for i in proba:\n",
        "        if i>=threshould:\n",
        "            predictions.append(1)\n",
        "        else:\n",
        "            predictions.append(0)\n",
        "    return predictions"
      ],
      "execution_count": 0,
      "outputs": []
    },
    {
      "cell_type": "code",
      "metadata": {
        "id": "KZ-_Fbxk_DrL",
        "colab_type": "code",
        "outputId": "db2c29cd-4f18-4d8c-d416-11811d4c869d",
        "colab": {
          "base_uri": "https://localhost:8080/",
          "height": 139
        }
      },
      "source": [
        "print(\"=\"*100)\n",
        "from sklearn.metrics import confusion_matrix\n",
        "best_t = find_best_threshold(tr_thresholds, train_fpr, train_tpr)\n",
        "print(\"Train confusion matrix\")\n",
        "# print(confusion_matrix(y_train, predict_with_best_t(y_train_pred, best_t)))\n",
        "print(\"tn, fp, fn, tp\", \"=\", confusion_matrix(y_train, predict_with_best_t(y_train_pred, best_t)).ravel())\n",
        "print(\"Test confusion matrix\")\n",
        "# print(confusion_matrix(Y_test, predict_with_best_t(y_test_pred, best_t)))\n",
        "print(\"tn, fp, fn, tp\", \"=\", confusion_matrix(Y_test, predict_with_best_t(y_test_pred, best_t)).ravel())\n",
        "print(\"here the threshold is \", np.round(best_t,3) , \"i can change the threshold values according to Requirement in the confusion meterix\")"
      ],
      "execution_count": 0,
      "outputs": [
        {
          "output_type": "stream",
          "text": [
            "====================================================================================================\n",
            "the maximum value of tpr*(1-fpr) 0.509 for threshold 0.449\n",
            "Train confusion matrix\n",
            "tn, fp, fn, tp = [28699 12916 10880 30735]\n",
            "Test confusion matrix\n",
            "tn, fp, fn, tp = [ 2504  2955 13505 17088]\n",
            "here the threshold is  0.449 i can change the threshold values according to Requirement in the confusion meterix\n"
          ],
          "name": "stdout"
        }
      ]
    },
    {
      "cell_type": "code",
      "metadata": {
        "id": "2saINJ0CRD6R",
        "colab_type": "code",
        "colab": {}
      },
      "source": [
        "Confusion_metrix_Train_data = pd.DataFrame(confusion_matrix(y_train, predict_with_best_t(y_train_pred, best_t)))\n",
        "Confusion_metrix_Test_data = pd.DataFrame(confusion_matrix(Y_test, predict_with_best_t(y_test_pred, best_t)))\n"
      ],
      "execution_count": 0,
      "outputs": []
    },
    {
      "cell_type": "code",
      "metadata": {
        "id": "hsVpy05XdqoR",
        "colab_type": "code",
        "outputId": "29668623-6742-4e9a-d721-ca2b5f098f6f",
        "colab": {
          "base_uri": "https://localhost:8080/",
          "height": 297
        }
      },
      "source": [
        "import seaborn as sns\n",
        "sns.set(font_scale=1.4)#for label size\n",
        "sns.heatmap(Confusion_metrix_Train_data,annot=True, annot_kws={\"size\": 20},fmt =\"g\")"
      ],
      "execution_count": 0,
      "outputs": [
        {
          "output_type": "execute_result",
          "data": {
            "text/plain": [
              "<matplotlib.axes._subplots.AxesSubplot at 0x7f4babd73a20>"
            ]
          },
          "metadata": {
            "tags": []
          },
          "execution_count": 135
        },
        {
          "output_type": "display_data",
          "data": {
            "image/png": "[encoded data removed]",
            "text/plain": [
              "<Figure size 432x288 with 2 Axes>"
            ]
          },
          "metadata": {
            "tags": []
          }
        }
      ]
    },
    {
      "cell_type": "code",
      "metadata": {
        "id": "X9cQMIu7GSph",
        "colab_type": "code",
        "outputId": "a86cee3e-2203-49ac-904b-fac69dcc0483",
        "colab": {
          "base_uri": "https://localhost:8080/",
          "height": 297
        }
      },
      "source": [
        "sns.heatmap(Confusion_metrix_Test_data,annot=True, annot_kws={\"size\": 20},fmt =\"g\")"
      ],
      "execution_count": 0,
      "outputs": [
        {
          "output_type": "execute_result",
          "data": {
            "text/plain": [
              "<matplotlib.axes._subplots.AxesSubplot at 0x7f4b8c1e05c0>"
            ]
          },
          "metadata": {
            "tags": []
          },
          "execution_count": 136
        },
        {
          "output_type": "display_data",
          "data": {
            "image/png": "[encoded data removed]",
            "text/plain": [
              "<Figure size 432x288 with 2 Axes>"
            ]
          },
          "metadata": {
            "tags": []
          }
        }
      ]
    },
    {
      "cell_type": "markdown",
      "metadata": {
        "id": "jQ66M6BhxowV",
        "colab_type": "text"
      },
      "source": [
        "## Conclusion for set 1: \n",
        "\n",
        "\n",
        "1.   The BOW for set 1 , gives us the results with a very low accuracy the AUC score was found out to be 50 which resembles that it is a random model and will give random results when tested  \n",
        "2.   The Confusion matrix gives us the TRP and FPR and it has been set with thershold of 0.509 , as I wanted to maximise the TPR with the help of setting the thershold . \n",
        "3.   The model of BOW is not performing as expected beacuse it doesnt consider the least occuring words to be important it just creates a orthogonal vector of the words which are present and dones not preserver the schematic meaning of the words too . \n",
        "\n",
        "Area's of improvemnt's\n",
        "\n",
        "1. The areas of imporvement are we can use Unigrams or \"n -grams \" this can imporove the models performance .\n",
        "\n"
      ]
    },
    {
      "cell_type": "markdown",
      "metadata": {
        "id": "QcXjMnisXIZY",
        "colab_type": "text"
      },
      "source": [
        "## 2.1.2 Set : 2 Categorical, Numerical features + Poject_title(TFIDF)+ Peprocessed_eassay (TFIDF)"
      ]
    },
    {
      "cell_type": "code",
      "metadata": {
        "id": "cP-3MGSAVxK1",
        "colab_type": "code",
        "outputId": "54aa6cc9-5d4b-4f77-b138-bf8fd67e02ea",
        "colab": {
          "base_uri": "https://localhost:8080/",
          "height": 104
        }
      },
      "source": [
        "# Applying TF-IDF on Prohect title :\n",
        "from sklearn.feature_extraction.text import TfidfVectorizer\n",
        "vectorizer9 = TfidfVectorizer(min_df=10)\n",
        "vectorizer9.fit(x_train[\"clean_titles\"].values)\n",
        "\n",
        "x_tain_project_titles_tfidf = vectorizer9.transform(x_train[\"clean_titles\"].values)\n",
        "X_cv_project_titles_tfidf = vectorizer9.transform(X_cv[\"clean_titles\"].values)\n",
        "X_test_project_titles_tfidf = vectorizer9.transform(X_test[\"clean_titles\"].values)\n",
        "\n",
        "\n",
        "print(\"After TFIDF vectorizations of the clean_titles , shape of the data after standazing\")\n",
        "print(x_tain_project_titles_tfidf.shape, y_train.shape)\n",
        "print(X_cv_project_titles_tfidf.shape,Y_cv.shape)\n",
        "print(X_test_project_titles_tfidf.shape, Y_test.shape)\n",
        "print(\"*\"*100)"
      ],
      "execution_count": 0,
      "outputs": [
        {
          "output_type": "stream",
          "text": [
            "After TFIDF vectorizations of the clean_titles , shape of the data after standazing\n",
            "(83230, 3017) (83230,)\n",
            "(24155, 3017) (24155,)\n",
            "(36052, 3017) (36052,)\n",
            "****************************************************************************************************\n"
          ],
          "name": "stdout"
        }
      ]
    },
    {
      "cell_type": "code",
      "metadata": {
        "id": "Hgen_akXt1Xq",
        "colab_type": "code",
        "outputId": "29e498ad-2ff7-44d7-9161-cfcedacdc9f7",
        "colab": {
          "base_uri": "https://localhost:8080/",
          "height": 104
        }
      },
      "source": [
        "from sklearn.feature_extraction.text import TfidfVectorizer\n",
        "vectorizer10 = TfidfVectorizer(min_df=10)\n",
        "vectorizer10.fit(x_train[\"essay\"])\n",
        "\n",
        "x_tain_essay_tfidf = vectorizer10.transform(x_train[\"essay\"].values)\n",
        "X_cv_essay_tfidf = vectorizer10.transform(X_cv[\"essay\"].values)\n",
        "X_test_essay_tfidf = vectorizer10.transform(X_test[\"essay\"].values)\n",
        " \n",
        "\n",
        "print(\"After TFIDF vectorizations of the essay , shape of the data after standazing\")\n",
        "print(x_tain_essay_tfidf.shape, y_train.shape)\n",
        "print(X_cv_essay_tfidf.shape,Y_cv.shape)\n",
        "print(X_test_essay_tfidf.shape, Y_test.shape)\n",
        "print(\"*\"*100)"
      ],
      "execution_count": 0,
      "outputs": [
        {
          "output_type": "stream",
          "text": [
            "After TFIDF vectorizations of the essay , shape of the data after standazing\n",
            "(83230, 15872) (83230,)\n",
            "(24155, 15872) (24155,)\n",
            "(36052, 15872) (36052,)\n",
            "****************************************************************************************************\n"
          ],
          "name": "stdout"
        }
      ]
    },
    {
      "cell_type": "code",
      "metadata": {
        "id": "6Bykx096t9Rv",
        "colab_type": "code",
        "outputId": "8deade6b-c323-407b-edc7-975814196792",
        "colab": {
          "base_uri": "https://localhost:8080/",
          "height": 87
        }
      },
      "source": [
        "from scipy.sparse import hstack\n",
        "X2_tr = hstack((x_train_clean_categories_ohe,x_train_clean_subcat_ohe,x_train_teacher_ohe,x_train_state_ohe,\\\n",
        "                x_train_grade_ohe,x_train_price_std,x_train_projects_std,x_train_qty_std,x_tain_project_titles_tfidf,x_tain_essay_tfidf)).tocsr()\n",
        "X2_cv = hstack((X_cv_clean_categories_ohe,X_cv_clean_subcat_ohe,X_cv_teacher_ohe,X_cv_state_ohe,X_cv_grade_ohe,\\\n",
        "                X_cv_price_std,X_cv_projects_std,X_cv_qty_std,X_cv_project_titles_tfidf,X_cv_essay_tfidf)).tocsr()\n",
        "X2_te =hstack((X_test_clean_categories_ohe,X_test_clean_subcat_ohe,X_test_teacher_ohe,X_test_state_ohe,\\\n",
        "               X_test_grade_ohe,X_test_price_std,X_test_projects_std,X_test_qty_std,X_test_project_titles_tfidf,X_test_essay_tfidf)).tocsr()\n",
        "\n",
        "\n",
        "print(\"The final Data Matrix for Set:2\" , \" All the shapes of the data represent the merged features as mentioned in the tittle\")\n",
        "print(\"shape of X_train is : \",            X2_tr.shape)\n",
        "print(\"shape of X_Cross validation is :\" , X2_cv.shape)\n",
        "print(\"shape of X_test is \",               X2_te.shape)"
      ],
      "execution_count": 0,
      "outputs": [
        {
          "output_type": "stream",
          "text": [
            "The final Data Matrix for Set:2  All the shapes of the data represent the merged features as mentioned in the tittle\n",
            "shape of X_train is :  (83230, 18992)\n",
            "shape of X_Cross validation is : (24155, 18992)\n",
            "shape of X_test is  (36052, 18992)\n"
          ],
          "name": "stdout"
        }
      ]
    },
    {
      "cell_type": "code",
      "metadata": {
        "id": "eTAAnoxpu_F6",
        "colab_type": "code",
        "outputId": "bb14e45e-5935-4d7b-e128-a7c911b1d91a",
        "colab": {
          "base_uri": "https://localhost:8080/",
          "height": 354
        }
      },
      "source": [
        "import matplotlib.pyplot as plt\n",
        "from sklearn.naive_bayes import MultinomialNB\n",
        "from sklearn.metrics import roc_auc_score\n",
        "import math\n",
        "\n",
        "train_auc1 = []\n",
        "cv_auc1 = [] \n",
        "alpha = [0.00001, 0.0001, 0.001, 0.01, 0.1, 1, 10,  100,  1000] \n",
        "for i in tqdm(alpha):\n",
        "    neigh = MultinomialNB(alpha=i,class_prior=[0.5,0.5])\n",
        "    neigh.fit(X2_tr, y_train)\n",
        "\n",
        "      y_train_pred = neigh.predict_proba(X2_tr)[:,1]    \n",
        "    y_cv_pred = neigh.predict_proba(X2_cv)[:,1]\n",
        "\n",
        "    # roc_auc_score(y_tr, y_score) the 2nd parameter should be probability estimates of the positive class\n",
        "    # not the predicted outputs        \n",
        "    train_auc1.append(roc_auc_score(y_train,y_train_pred))\n",
        "    cv_auc1.append(roc_auc_score(Y_cv, y_cv_pred))\n",
        "  \n",
        "plt.semilogx(alpha, train_auc1, label='Train AUC')\n",
        "plt.semilogx(alpha, cv_auc1, label='CV AUC')\n",
        "\n",
        "plt.scatter(alpha, train_auc1, label='Train AUC points')\n",
        "plt.scatter(alpha, cv_auc1, label='CV AUC points')\n",
        "print(\"Ploting the Log values of alpha as it would exactly plot the values of the point's considered \")\n",
        "plt.legend()\n",
        "plt.xlabel(\"log_alphas: hyperparameter\")\n",
        "plt.ylabel(\"AUC\")\n",
        "plt.title(\"ERROR PLOTS\")\n",
        "plt.grid(color='black', linestyle='-', linewidth=1)\n",
        "plt.show()"
      ],
      "execution_count": 0,
      "outputs": [
        {
          "output_type": "stream",
          "text": [
            "100%|██████████| 9/9 [00:01<00:00,  4.66it/s]\n"
          ],
          "name": "stderr"
        },
        {
          "output_type": "stream",
          "text": [
            "Ploting the Log values of alpha as it would exactly plot the values of the point's considered \n"
          ],
          "name": "stdout"
        },
        {
          "output_type": "display_data",
          "data": {
            "image/png": "[encoded data removed]",
            "text/plain": [
              "<Figure size 432x288 with 1 Axes>"
            ]
          },
          "metadata": {
            "tags": []
          }
        }
      ]
    },
    {
      "cell_type": "code",
      "metadata": {
        "id": "KpAkpFt5yhnK",
        "colab_type": "code",
        "outputId": "d3bdc181-8733-436b-e94d-68a1f90cfd86",
        "colab": {
          "base_uri": "https://localhost:8080/",
          "height": 35
        }
      },
      "source": [
        "alpha= 10\n",
        "print(\"The Error Plot above shows the best Aplha value as :\" , alpha )"
      ],
      "execution_count": 0,
      "outputs": [
        {
          "output_type": "stream",
          "text": [
            "The Error Plot above shows the best Aplha value as : 10\n"
          ],
          "name": "stdout"
        }
      ]
    },
    {
      "cell_type": "code",
      "metadata": {
        "id": "O6_b92qIyqBr",
        "colab_type": "code",
        "outputId": "50e2177a-ea1c-4d5d-dcbb-acdff8439d75",
        "colab": {
          "base_uri": "https://localhost:8080/",
          "height": 315
        }
      },
      "source": [
        "from sklearn.metrics import roc_curve, auc\n",
        "neigh = MultinomialNB(alpha=alpha,class_prior=[0.5,0.5])\n",
        "neigh.fit(X2_tr, y_train)\n",
        "y_train_pred1 = neigh.predict_proba(neigh, X2_tr)    \n",
        "y_test_pred1 = neigh.predict_proba(neigh, X2_te)\n",
        "train_fpr, train_tpr, tr_thresholds = roc_curve(y_train, y_train_pred1)\n",
        "test_fpr, test_tpr, te_thresholds = roc_curve(Y_test, y_test_pred1)\n",
        "plt.plot(train_fpr, train_tpr, label=\"Train AUC =\"+ str(np.round(auc(train_fpr, train_tpr),3)))\n",
        "plt.plot(test_fpr, test_tpr, label=\"Test AUC =\"+str(np.round(auc(test_fpr, test_tpr),3)))\n",
        "plt.legend()\n",
        "plt.xlabel(\"False Positive Rate\")\n",
        "plt.ylabel(\"True Positive Rate\")\n",
        "plt.title(\"AUC ROC Curve \")\n",
        "plt.grid(color='black', linestyle='-', linewidth=1)\n",
        "plt.show()"
      ],
      "execution_count": 0,
      "outputs": [
        {
          "output_type": "display_data",
          "data": {
            "image/png": "[encoded data removed]",
            "text/plain": [
              "<Figure size 432x288 with 1 Axes>"
            ]
          },
          "metadata": {
            "tags": []
          }
        }
      ]
    },
    {
      "cell_type": "code",
      "metadata": {
        "id": "AKCdnBjgzSng",
        "colab_type": "code",
        "colab": {}
      },
      "source": [
        "#this is the custom function for predecting the best thershold and sorting the values according the threshould \n",
        "def find_best_threshold(threshould, fpr, tpr):\n",
        "    t = threshould[np.argmax(tpr*(1-fpr))]\n",
        "    # (tpr*(1-fpr)) will be maximum if your fpr is very low and tpr is very high\n",
        "    print(\"the maximum value of tpr*(1-fpr)\", np.round(max(tpr*(1-fpr)),3), \"for threshold\", np.round(t,3))\n",
        "    return t"
      ],
      "execution_count": 0,
      "outputs": []
    },
    {
      "cell_type": "code",
      "metadata": {
        "id": "POvkjgjezVLk",
        "colab_type": "code",
        "colab": {}
      },
      "source": [
        "def predict_with_best_t(proba, threshould):\n",
        "    predictions = []\n",
        "    for i in proba:\n",
        "        if i>=threshould:\n",
        "            predictions.append(1)\n",
        "        else:\n",
        "            predictions.append(0)\n",
        "    return predictions"
      ],
      "execution_count": 0,
      "outputs": []
    },
    {
      "cell_type": "code",
      "metadata": {
        "id": "g8mpfmNwzbpz",
        "colab_type": "code",
        "outputId": "de4028b5-59cc-4b5d-ea6f-cce3f13aa02c",
        "colab": {
          "base_uri": "https://localhost:8080/",
          "height": 139
        }
      },
      "source": [
        "print(\"=\"*100)\n",
        "from sklearn.metrics import confusion_matrix\n",
        "best_t = find_best_threshold(tr_thresholds, train_fpr, train_tpr)\n",
        "print(\"Train confusion matrix\")\n",
        "# print(confusion_matrix(y_train, predict_with_best_t(y_train_pred1, best_t)))\n",
        "print(\"tn, fp, fn, tp\", \"=\", confusion_matrix(y_train, predict_with_best_t(y_train_pred1, best_t)).ravel())\n",
        "print(\"Test confusion matrix\")\n",
        "# print(confusion_matrix(Y_test, predict_with_best_t(y_test_pred1, best_t)))\n",
        "print(\"tn, fp, fn, tp\", \"=\", confusion_matrix(Y_test, predict_with_best_t(y_test_pred1, best_t)).ravel())\n",
        "print(\"here the threshold is \", np.round(best_t,3) , \"i can change the threshold values according to Requirement in the confusion meterix\")"
      ],
      "execution_count": 0,
      "outputs": [
        {
          "output_type": "stream",
          "text": [
            "====================================================================================================\n",
            "the maximum value of tpr*(1-fpr) 0.482 for threshold 0.516\n",
            "Train confusion matrix\n",
            "tn, fp, fn, tp = [29900 11715 13688 27927]\n",
            "Test confusion matrix\n",
            "tn, fp, fn, tp = [ 3284  2175 10735 19858]\n",
            "here the threshold is  0.516 i can change the threshold values according to Requirement in the confusion meterix\n"
          ],
          "name": "stdout"
        }
      ]
    },
    {
      "cell_type": "code",
      "metadata": {
        "id": "i6zD0wAdzek4",
        "colab_type": "code",
        "outputId": "435916e8-0845-4c9d-df81-71b2e4de7ced",
        "colab": {
          "base_uri": "https://localhost:8080/",
          "height": 314
        }
      },
      "source": [
        "Confusion_metrix_Train_data = pd.DataFrame(confusion_matrix(y_train, predict_with_best_t(y_train_pred1, best_t)))\n",
        "Confusion_metrix_Test_data = pd.DataFrame(confusion_matrix(Y_test, predict_with_best_t(y_test_pred1, best_t)))\n",
        "import seaborn as sns\n",
        "sns.set(font_scale=1.4)#for label size\n",
        "print(\"Confusion metrix for Train data \")\n",
        "sns.heatmap(Confusion_metrix_Train_data,annot=True, annot_kws={\"size\": 20},fmt =\"g\")"
      ],
      "execution_count": 0,
      "outputs": [
        {
          "output_type": "stream",
          "text": [
            "Confusion metrix for Train data \n"
          ],
          "name": "stdout"
        },
        {
          "output_type": "execute_result",
          "data": {
            "text/plain": [
              "<matplotlib.axes._subplots.AxesSubplot at 0x7f4b925f3780>"
            ]
          },
          "metadata": {
            "tags": []
          },
          "execution_count": 177
        },
        {
          "output_type": "display_data",
          "data": {
            "image/png": "[encoded data removed]",
            "text/plain": [
              "<Figure size 432x288 with 2 Axes>"
            ]
          },
          "metadata": {
            "tags": []
          }
        }
      ]
    },
    {
      "cell_type": "code",
      "metadata": {
        "id": "Q6h6MNcQF9Nb",
        "colab_type": "code",
        "outputId": "9d7054d6-449e-4114-fe2f-91d04f29c95a",
        "colab": {
          "base_uri": "https://localhost:8080/",
          "height": 314
        }
      },
      "source": [
        "print(\"Confusion metrix for Test data\")\n",
        "sns.heatmap(Confusion_metrix_Test_data,annot=True, annot_kws={\"size\": 20},fmt =\"g\")"
      ],
      "execution_count": 0,
      "outputs": [
        {
          "output_type": "stream",
          "text": [
            "Confusion metrix for Test data\n"
          ],
          "name": "stdout"
        },
        {
          "output_type": "execute_result",
          "data": {
            "text/plain": [
              "<matplotlib.axes._subplots.AxesSubplot at 0x7f4b82dd56d8>"
            ]
          },
          "metadata": {
            "tags": []
          },
          "execution_count": 178
        },
        {
          "output_type": "display_data",
          "data": {
            "image/png": "[encoded data removed]",
            "text/plain": [
              "<Figure size 432x288 with 2 Axes>"
            ]
          },
          "metadata": {
            "tags": []
          }
        }
      ]
    },
    {
      "cell_type": "markdown",
      "metadata": {
        "id": "0Pr26rGp03fF",
        "colab_type": "text"
      },
      "source": [
        "\n",
        "\n",
        "```\n",
        "## Conclusion for set 2:\n",
        "\n",
        "```\n",
        "\n",
        "\n",
        "1.   TFIDF vectorizer gives very good results as compared to BOW as it equally considers the occurance of words in the Document Corpus\n",
        "2.   The AUC was found arounf 70 % and hance could be increased by using N-grams. \n",
        "3.   The confusion matrix was formed using the thershould of 0.49 for maximising the TPR.\n",
        "\n",
        "\n",
        "\n",
        "\n"
      ]
    },
    {
      "cell_type": "markdown",
      "metadata": {
        "id": "Q0KH1VfOKlX4",
        "colab_type": "text"
      },
      "source": [
        "### 3.1 Top 10 features of \"positive class\" and top 10 features of \"negative class\" for feature matrix Set 1"
      ]
    },
    {
      "cell_type": "code",
      "metadata": {
        "id": "ltK7oWDT9nEE",
        "colab_type": "code",
        "outputId": "ba5bbb9e-b4fe-42b5-f3ae-85715f83bfbb",
        "colab": {
          "base_uri": "https://localhost:8080/",
          "height": 87
        }
      },
      "source": [
        "# Feature set Consitis of all the Catogorial and Numerical features of BOW vectorization \n",
        "\n",
        "X1_tr = hstack((x_train_clean_categories_ohe,x_train_clean_subcat_ohe,x_train_teacher_ohe,x_train_state_ohe,\\\n",
        "                x_train_grade_ohe,x_train_titles_bow,x_train_essay_bow,x_train_price_std,x_train_projects_std,x_train_qty_std)).tocsr()\n",
        "X1_cv = hstack((X_cv_clean_categories_ohe,X_cv_clean_subcat_ohe,X_cv_teacher_ohe,X_cv_state_ohe,X_cv_grade_ohe,\\\n",
        "                X_cv_price_std,X_cv_projects_std,X_cv_qty_std,X_cv_essay_bow,X_cv_titles_bow)).tocsr()\n",
        "X1_te =hstack((X_test_clean_categories_ohe,X_test_clean_subcat_ohe,X_test_teacher_ohe,X_test_state_ohe,\\\n",
        "               X_test_grade_ohe,X_test_essay_bow,X_test_titles_bow,X_test_price_std,X_test_projects_std,X_test_qty_std)).tocsr()\n",
        "\n",
        "\n",
        "print(\"The final Data Matrix for Set:1\" , \" All the shapes of the data represent the merged features as mentioned in the tittle\")\n",
        "print(\"shape of X_train is : \",            X1_tr.shape)\n",
        "print(\"shape of X_Cross validation is :\" , X1_cv.shape)\n",
        "print(\"shape of X_test is \",               X1_te.shape)"
      ],
      "execution_count": 0,
      "outputs": [
        {
          "output_type": "stream",
          "text": [
            "The final Data Matrix for Set:1  All the shapes of the data represent the merged features as mentioned in the tittle\n",
            "shape of X_train is :  (83230, 24906)\n",
            "shape of X_Cross validation is : (24155, 24906)\n",
            "shape of X_test is  (36052, 24906)\n"
          ],
          "name": "stdout"
        }
      ]
    },
    {
      "cell_type": "code",
      "metadata": {
        "id": "y9yL25snMJCw",
        "colab_type": "code",
        "outputId": "f7502284-d940-44bd-82d9-79fa9639cb62",
        "colab": {
          "base_uri": "https://localhost:8080/",
          "height": 35
        }
      },
      "source": [
        "nb_bow = MultinomialNB(alpha =alpha1 ,class_prior=[0.5,0.5])\n",
        "nb_bow.fit(X1_tr, y_train)"
      ],
      "execution_count": 0,
      "outputs": [
        {
          "output_type": "execute_result",
          "data": {
            "text/plain": [
              "MultinomialNB(alpha=100, class_prior=[0.5, 0.5], fit_prior=True)"
            ]
          },
          "metadata": {
            "tags": []
          },
          "execution_count": 180
        }
      ]
    },
    {
      "cell_type": "code",
      "metadata": {
        "id": "HPbLyoqYN2oO",
        "colab_type": "code",
        "colab": {}
      },
      "source": [
        "neg_class_prob_sorted = nb_bow.feature_log_prob_[0, :].argsort()\n",
        "pos_class_prob_sorted = nb_bow.feature_log_prob_[1, :].argsort()"
      ],
      "execution_count": 0,
      "outputs": []
    },
    {
      "cell_type": "code",
      "metadata": {
        "id": "7IUB__8bP74Z",
        "colab_type": "code",
        "colab": {}
      },
      "source": [
        "# https://stackoverflow.com/questions/14131615/possible-to-append-multiple-lists-at-once-python\n",
        "from itertools import chain\n",
        "Stacked_Feature_list = list(chain(vectorizer1.get_feature_names(),vectorizer2.get_feature_names(),vectorizer3.get_feature_names(),\\\n",
        "                                  vectorizer4.get_feature_names(),vectorizer5.get_feature_names(),vectorizer6.get_feature_names(),\\\n",
        "                                  vectorizer7.get_feature_names(),vectorizer8.get_feature_names(),x_train_qty_std,x_train_projects_std,x_train_price_std))\n",
        "\n"
      ],
      "execution_count": 0,
      "outputs": []
    },
    {
      "cell_type": "code",
      "metadata": {
        "id": "Fcq1bLCEb4Wu",
        "colab_type": "code",
        "outputId": "7948b362-2f01-4b5b-c8e0-4b564e1a9484",
        "colab": {
          "base_uri": "https://localhost:8080/",
          "height": 312
        }
      },
      "source": [
        "print(\"The words with higest importance in Postive class is\")\n",
        "print(np.take(Stacked_Feature_list, neg_class_prob_sorted[-30:-1]))\n",
        "print(\"*\"*20)\n",
        "print(\"The words with higest importance in Negative class is\")\n",
        "print(np.take(Stacked_Feature_list, pos_class_prob_sorted[-30:-1]))"
      ],
      "execution_count": 0,
      "outputs": [
        {
          "output_type": "stream",
          "text": [
            "The words with higest importance in Postive class is\n",
            "['my class and' 'fruits and vegetables' 'our school are' 'you in advance'\n",
            " 'group of students who' 'students enter' 'enjoy' 'own' 'meaning'\n",
            " 'will inspire' 'explore their' 'their communities' 'small'\n",
            " 'school to learn' 'students will feel' 'middle class' 'of skills'\n",
            " 'learners have' 'together they' 'radical' 'while having'\n",
            " 'with your help we' 'donating to our project' 'school and my'\n",
            " 'need to become' 'starting to' 'time or' 'up in the' 'comes']\n",
            "********************\n",
            "The words with higest importance in Negative class is\n",
            "['on regular basis' 'our school are' 'fruits and vegetables'\n",
            " 'you in advance' 'group of students who' 'students enter' 'enjoy' 'own'\n",
            " 'will inspire' 'meaning' 'explore their' 'their communities' 'small'\n",
            " 'of skills' 'middle class' 'together they' 'school to learn'\n",
            " 'students will feel' 'learners have' 'radical' 'while having'\n",
            " 'with your help we' 'donating to our project' 'school and my'\n",
            " 'need to become' 'starting to' 'time or' 'up in the' 'comes']\n"
          ],
          "name": "stdout"
        }
      ]
    },
    {
      "cell_type": "markdown",
      "metadata": {
        "id": "Cx0XaXPuhWeZ",
        "colab_type": "text"
      },
      "source": [
        "### 3.2 Top 10 features of \"positive class\" and top 10 features of \"negative class\" for feature matrix Set 2"
      ]
    },
    {
      "cell_type": "code",
      "metadata": {
        "id": "MTN089zXJwRu",
        "colab_type": "code",
        "outputId": "d2267237-f13b-408d-cff9-669c6147bdd9",
        "colab": {
          "base_uri": "https://localhost:8080/",
          "height": 87
        }
      },
      "source": [
        "from scipy.sparse import hstack\n",
        "X2_tr = hstack((x_train_clean_categories_ohe,x_train_clean_subcat_ohe,x_train_teacher_ohe,x_train_state_ohe,\\\n",
        "                x_train_grade_ohe,x_train_price_std,x_train_projects_std,x_train_qty_std,x_tain_project_titles_tfidf,x_tain_essay_tfidf)).tocsr()\n",
        "X2_cv = hstack((X_cv_clean_categories_ohe,X_cv_clean_subcat_ohe,X_cv_teacher_ohe,X_cv_state_ohe,X_cv_grade_ohe,\\\n",
        "                X_cv_price_std,X_cv_projects_std,X_cv_qty_std,X_cv_project_titles_tfidf,X_cv_essay_tfidf)).tocsr()\n",
        "X2_te =hstack((X_test_clean_categories_ohe,X_test_clean_subcat_ohe,X_test_teacher_ohe,X_test_state_ohe,\\\n",
        "               X_test_grade_ohe,X_test_price_std,X_test_projects_std,X_test_qty_std,X_test_project_titles_tfidf,X_test_essay_tfidf)).tocsr()\n",
        "\n",
        "\n",
        "print(\"The final Data Matrix for Set:2\" , \" All the shapes of the data represent the merged features as mentioned in the tittle\")\n",
        "print(\"shape of X_train is : \",            X2_tr.shape)\n",
        "print(\"shape of X_Cross validation is :\" , X2_cv.shape)\n",
        "print(\"shape of X_test is \",               X2_te.shape)"
      ],
      "execution_count": 0,
      "outputs": [
        {
          "output_type": "stream",
          "text": [
            "The final Data Matrix for Set:2  All the shapes of the data represent the merged features as mentioned in the tittle\n",
            "shape of X_train is :  (83230, 18992)\n",
            "shape of X_Cross validation is : (24155, 18992)\n",
            "shape of X_test is  (36052, 18992)\n"
          ],
          "name": "stdout"
        }
      ]
    },
    {
      "cell_type": "code",
      "metadata": {
        "id": "GIs198_Dha3o",
        "colab_type": "code",
        "outputId": "6d910434-43c2-496d-983a-63c9625a03e5",
        "colab": {
          "base_uri": "https://localhost:8080/",
          "height": 35
        }
      },
      "source": [
        "nb_bow2 = MultinomialNB(alpha=alpha ,class_prior=[0.5,0.5])\n",
        "nb_bow2.fit(X2_tr, y_train)"
      ],
      "execution_count": 0,
      "outputs": [
        {
          "output_type": "execute_result",
          "data": {
            "text/plain": [
              "MultinomialNB(alpha=0.01, class_prior=[0.5, 0.5], fit_prior=True)"
            ]
          },
          "metadata": {
            "tags": []
          },
          "execution_count": 154
        }
      ]
    },
    {
      "cell_type": "code",
      "metadata": {
        "id": "NlxYnNKQhrXu",
        "colab_type": "code",
        "colab": {}
      },
      "source": [
        "neg_class_prob_sorted_set2 = nb_bow2.feature_log_prob_[0, :].argsort()\n",
        "pos_class_prob_sorted_set2 = nb_bow2.feature_log_prob_[1, :].argsort()"
      ],
      "execution_count": 0,
      "outputs": []
    },
    {
      "cell_type": "code",
      "metadata": {
        "id": "wN9vbblfh3zy",
        "colab_type": "code",
        "colab": {}
      },
      "source": [
        "# https://stackoverflow.com/questions/14131615/possible-to-append-multiple-lists-at-once-python\n",
        "from itertools import chain\n",
        "Stacked_Feature_list1 = list(chain(vectorizer1.get_feature_names(),vectorizer2.get_feature_names(),vectorizer3.get_feature_names(),\\\n",
        "                                  vectorizer4.get_feature_names(),vectorizer5.get_feature_names(),vectorizer9.get_feature_names(),\\\n",
        "                                  vectorizer10.get_feature_names(),x_train_qty_std,x_train_projects_std,x_train_price_std))\n",
        "\n"
      ],
      "execution_count": 0,
      "outputs": []
    },
    {
      "cell_type": "code",
      "metadata": {
        "id": "V72ByPFviZuc",
        "colab_type": "code",
        "outputId": "da2b52ed-376a-4aba-96fe-ca848b40f518",
        "colab": {
          "base_uri": "https://localhost:8080/",
          "height": 243
        }
      },
      "source": [
        "# thers a import point to note that is if we take argsort then it gives values in ascending order so we have to select fetures form the last\n",
        "print(\"The words with higest importance in Postive class is\")\n",
        "# i took features from -30 to -1 which means select all the features which are most important form the accendingly sorted array \n",
        "print(np.take(Stacked_Feature_list1, neg_class_prob_sorted[-30:-1]))\n",
        "print(\"*\"*20)\n",
        "print(\"The words with higest importance in Negative class is\")\n",
        "print(np.take(Stacked_Feature_list1, pos_class_prob_sorted[-30:-1]))"
      ],
      "execution_count": 0,
      "outputs": [
        {
          "output_type": "stream",
          "text": [
            "The words with higest importance in Postive class is\n",
            "['influence' 'cooler' 'mixing' array([1.]) 'dealing' 'provoking' 'cameras'\n",
            " 'movable' array([1.]) array([1.]) 'children' 'slime' array([1.]) 'oxygen'\n",
            " 'receivership' 'identical' 'looming' 'furthers' 'utilized' array([1.])\n",
            " array([1.]) array([1.]) 'blog' 'organization' 'jamestown' 'poured'\n",
            " 'taylor' 'vitamin' 'ankle']\n",
            "********************\n",
            "The words with higest importance in Negative class is\n",
            "['march' 'mixing' 'cooler' array([1.]) 'dealing' 'provoking' 'cameras'\n",
            " 'movable' array([1.]) array([1.]) 'children' 'slime' array([1.])\n",
            " 'looming' 'identical' 'utilized' 'oxygen' 'receivership' 'furthers'\n",
            " array([1.]) array([1.]) array([1.]) 'blog' 'organization' 'jamestown'\n",
            " 'poured' 'taylor' 'vitamin' 'ankle']\n"
          ],
          "name": "stdout"
        }
      ]
    },
    {
      "cell_type": "markdown",
      "metadata": {
        "id": "u0QFKqNpmRF9",
        "colab_type": "text"
      },
      "source": [
        "## Conclusion "
      ]
    },
    {
      "cell_type": "code",
      "metadata": {
        "id": "b3qUaVjzk5-7",
        "colab_type": "code",
        "outputId": "044b23a8-ef9b-4a1f-9a64-bb83251ce766",
        "colab": {
          "base_uri": "https://localhost:8080/",
          "height": 121
        }
      },
      "source": [
        "from prettytable import PrettyTable\n",
        "x = PrettyTable()\n",
        "x.field_names = [\"Vectorizer\", \"Model\", \"Alpha:Hyper Parameter\", \" Test AUC\"]\n",
        "x.add_row([\"BOW\", \"Multinomial Naive Bayes\", 0.01, 0.55])\n",
        "x.add_row([\"TFIDF\", \"Multinomial Naive Bayes\", 0.01, 0.68])\n",
        "print(x)"
      ],
      "execution_count": 0,
      "outputs": [
        {
          "output_type": "stream",
          "text": [
            "+------------+-------------------------+-----------------------+-----------+\n",
            "| Vectorizer |          Model          | Alpha:Hyper Parameter |  Test AUC |\n",
            "+------------+-------------------------+-----------------------+-----------+\n",
            "|    BOW     | Multinomial Naive Bayes |          0.01         |    0.55   |\n",
            "|   TFIDF    | Multinomial Naive Bayes |          0.01         |    0.68   |\n",
            "+------------+-------------------------+-----------------------+-----------+\n"
          ],
          "name": "stdout"
        }
      ]
    }
  ]
}